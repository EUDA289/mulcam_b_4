{
  "nbformat": 4,
  "nbformat_minor": 0,
  "metadata": {
    "colab": {
      "name": "뉴스기사와 콜금리 Merge",
      "provenance": [],
      "mount_file_id": "1ToudIzDFDSbVIJsOFzSoJLHdqe3i0NTA",
      "authorship_tag": "ABX9TyPka678FKRt5GAexU7pwIW8",
      "include_colab_link": true
    },
    "kernelspec": {
      "name": "python3",
      "display_name": "Python 3"
    }
  },
  "cells": [
    {
      "cell_type": "markdown",
      "metadata": {
        "id": "view-in-github",
        "colab_type": "text"
      },
      "source": [
        "<a href=\"https://colab.research.google.com/github/EUDA289/mulcam_b_4/blob/jeje/%EB%89%B4%EC%8A%A4%EA%B8%B0%EC%82%AC%EC%99%80_%EC%BD%9C%EA%B8%88%EB%A6%AC_Merge.ipynb\" target=\"_parent\"><img src=\"https://colab.research.google.com/assets/colab-badge.svg\" alt=\"Open In Colab\"/></a>"
      ]
    },
    {
      "cell_type": "code",
      "metadata": {
        "id": "qLXsQgiLArxh",
        "colab_type": "code",
        "colab": {}
      },
      "source": [
        "import pandas as pd\n",
        "articles_tokenized_ngramed = pd.read_csv('drive/My Drive/your_ngram/articles_tokenized_ngramed.csv')"
      ],
      "execution_count": 1,
      "outputs": []
    },
    {
      "cell_type": "code",
      "metadata": {
        "id": "3C_d8KH2FP5o",
        "colab_type": "code",
        "colab": {
          "base_uri": "https://localhost:8080/",
          "height": 912
        },
        "outputId": "29a80ba0-53d9-4493-f570-307c11315322"
      },
      "source": [
        "articles = articles_tokenized_ngramed.copy()\n",
        "articles"
      ],
      "execution_count": 2,
      "outputs": [
        {
          "output_type": "execute_result",
          "data": {
            "text/html": [
              "<div>\n",
              "<style scoped>\n",
              "    .dataframe tbody tr th:only-of-type {\n",
              "        vertical-align: middle;\n",
              "    }\n",
              "\n",
              "    .dataframe tbody tr th {\n",
              "        vertical-align: top;\n",
              "    }\n",
              "\n",
              "    .dataframe thead th {\n",
              "        text-align: right;\n",
              "    }\n",
              "</style>\n",
              "<table border=\"1\" class=\"dataframe\">\n",
              "  <thead>\n",
              "    <tr style=\"text-align: right;\">\n",
              "      <th></th>\n",
              "      <th>date</th>\n",
              "      <th>source</th>\n",
              "      <th>title</th>\n",
              "      <th>content</th>\n",
              "      <th>Tokenized</th>\n",
              "      <th>N-gram</th>\n",
              "    </tr>\n",
              "  </thead>\n",
              "  <tbody>\n",
              "    <tr>\n",
              "      <th>0</th>\n",
              "      <td>2005-05-01</td>\n",
              "      <td>연합뉴스</td>\n",
              "      <td>&lt;은행전쟁 원년 `빅4' 1분기 승패는&gt;</td>\n",
              "      <td>\"(서울=연합뉴스) 경수현기자 = 이른바 `은행들의 전쟁 원년인 올해 4대 시중은행...</td>\n",
              "      <td>['경수/NNG', '기자/NNG', '은행/NNG', '전쟁/NNG', '원년/N...</td>\n",
              "      <td>['자산/NNG;건전성/NNG;개선/NNG', '무수익여신/NNG;증가/NNG', ...</td>\n",
              "    </tr>\n",
              "    <tr>\n",
              "      <th>1</th>\n",
              "      <td>2005-05-01</td>\n",
              "      <td>이데일리</td>\n",
              "      <td>뉴욕증시, FOMC·고용지표 촉각</td>\n",
              "      <td>뉴욕=edaily 안근모특파원 뉴욕증시 투자자들이 시장의 방향을 정하지 못한채 하루...</td>\n",
              "      <td>['뉴욕/NNG', '안/MAG', '근모/NNG', '특파원/NNG', '시장/N...</td>\n",
              "      <td>['인플레이션/NNG;압력/NNG;억제/NNG', '금리/NNG;인상/NNG;긴축/...</td>\n",
              "    </tr>\n",
              "    <tr>\n",
              "      <th>2</th>\n",
              "      <td>2005-05-01</td>\n",
              "      <td>이데일리</td>\n",
              "      <td>증시 갈림길..FOMC에 쏠린 눈</td>\n",
              "      <td>edaily 공희정기자 4월은 잔인했다. 어닝 시즌 기업들이 내놓은 실적은 실망감만...</td>\n",
              "      <td>['공희/NNG', '정기/NNG', '잔인/NNG', '실적시즌/NNG', '기업...</td>\n",
              "      <td>['기업/NNG;수익성/NNG;악화/NNG;우려/NNG', '경제/NNG;지표/NN...</td>\n",
              "    </tr>\n",
              "    <tr>\n",
              "      <th>3</th>\n",
              "      <td>2005-05-01</td>\n",
              "      <td>이데일리</td>\n",
              "      <td>펀드 수익률, 초라한 주식형..빛나는 채권형</td>\n",
              "      <td>edaily 권소현기자 지난주(4월25~29일) 940선대에서 출발한 증시가 910...</td>\n",
              "      <td>['기자/NNG', '선대/NNG', '출발/NNG', '하/VV', '증시/NNG...</td>\n",
              "      <td>['글로벌/NNG;경기/NNG;둔화/NNG;우려/NNG;강세/NNG', '경기/NN...</td>\n",
              "    </tr>\n",
              "    <tr>\n",
              "      <th>4</th>\n",
              "      <td>2005-05-01</td>\n",
              "      <td>연합뉴스</td>\n",
              "      <td>3월 中企 연체율 2.6%..작년말보다 0.5%p상승</td>\n",
              "      <td>작년동기.전월 대비로는 0.2%p 낮아     (서울=연합뉴스) 박성제기자= 3월 ...</td>\n",
              "      <td>['대비/NNG', '낮/VA', '기자/NNG', '중소기업/NNG', '대출/N...</td>\n",
              "      <td>['대출/NNG;연체율/NNG;오르/VV', '대출/NNG;연체율/NNG;높/VA'...</td>\n",
              "    </tr>\n",
              "    <tr>\n",
              "      <th>...</th>\n",
              "      <td>...</td>\n",
              "      <td>...</td>\n",
              "      <td>...</td>\n",
              "      <td>...</td>\n",
              "      <td>...</td>\n",
              "      <td>...</td>\n",
              "    </tr>\n",
              "    <tr>\n",
              "      <th>192728</th>\n",
              "      <td>2017-12-31</td>\n",
              "      <td>이데일리</td>\n",
              "      <td>[전문]이주열 한국은행 총재 신년사</td>\n",
              "      <td>이데일리 김정남 기자 이주열 한국은행 총재는 31일 신년사를 통해 “변화의 방향이나...</td>\n",
              "      <td>['기자/NNG', '신년사/NNG', '통하/VV', '변화/NNG', '방향/N...</td>\n",
              "      <td>['체질/NNG;개선/NNG;성장/NNG;잠재력/NNG;확충/NNG', '수요측면/...</td>\n",
              "    </tr>\n",
              "    <tr>\n",
              "      <th>192729</th>\n",
              "      <td>2017-12-31</td>\n",
              "      <td>연합뉴스</td>\n",
              "      <td>1년 정기예금금리 연 2% 육박…32개월 만에 최고</td>\n",
              "      <td>11월 판매 정기예금 10개 중 4개가 금리 2%대올해 10월까지 정기예금 증가규모...</td>\n",
              "      <td>['판매/NNG', '정기/NNG', '예금/NNG', '중/NNG', '금리/NN...</td>\n",
              "      <td>['은행/NNG;예금/NNG;금리/NNG;오르/VV', '금리/NNG;인상/NNG'...</td>\n",
              "    </tr>\n",
              "    <tr>\n",
              "      <th>192730</th>\n",
              "      <td>2017-12-31</td>\n",
              "      <td>이데일리</td>\n",
              "      <td>[미리보는 이데일리신문]영세 노동자 위한다면 노조도 양보하라</td>\n",
              "      <td>이데일리 원다연 기자 다음은 1일자 이데일리신문 주요기사다. △1면-영세 노동자 위...</td>\n",
              "      <td>['연/NNG', '기자/NNG', '신문/NNG', '기사/NNG', '면/NNG...</td>\n",
              "      <td>['미/NNG;금리/NNG;인상/NNG', '전세가격/NNG;안정/NNG', '판매...</td>\n",
              "    </tr>\n",
              "    <tr>\n",
              "      <th>192731</th>\n",
              "      <td>2017-12-31</td>\n",
              "      <td>연합뉴스</td>\n",
              "      <td>[연합뉴스 이 시각 헤드라인] - 10:00</td>\n",
              "      <td>■ WSJ \"삼정2호·라이트하우스호 안보리 제재 중국이 반대\"미국이 블랙리스트 지정...</td>\n",
              "      <td>['삼정/NNG', '안보리/NNG', '제재/NNG', '반대/NNG', '블랙리...</td>\n",
              "      <td>['주택담보대출/NNG;금리/NNG;최대/NNG']</td>\n",
              "    </tr>\n",
              "    <tr>\n",
              "      <th>192732</th>\n",
              "      <td>2017-12-31</td>\n",
              "      <td>연합인포맥스</td>\n",
              "      <td>김태영 은행연합회장 \"금리인상기 은행 자산건전성 강화해야\"</td>\n",
              "      <td>(서울=연합인포맥스) 정지서 기자 = 김태영 은행연합회장은 2018년이 은행을 비롯...</td>\n",
              "      <td>['기자/NNG', '은행/NNG', '비롯/NNG', '금융/NNG', '모두/N...</td>\n",
              "      <td>['대출/NNG;상환/NNG;부담/NNG;증가/NNG', '가계/NNG;부채/NNG...</td>\n",
              "    </tr>\n",
              "  </tbody>\n",
              "</table>\n",
              "<p>192733 rows × 6 columns</p>\n",
              "</div>"
            ],
            "text/plain": [
              "              date  ...                                             N-gram\n",
              "0       2005-05-01  ...  ['자산/NNG;건전성/NNG;개선/NNG', '무수익여신/NNG;증가/NNG', ...\n",
              "1       2005-05-01  ...  ['인플레이션/NNG;압력/NNG;억제/NNG', '금리/NNG;인상/NNG;긴축/...\n",
              "2       2005-05-01  ...  ['기업/NNG;수익성/NNG;악화/NNG;우려/NNG', '경제/NNG;지표/NN...\n",
              "3       2005-05-01  ...  ['글로벌/NNG;경기/NNG;둔화/NNG;우려/NNG;강세/NNG', '경기/NN...\n",
              "4       2005-05-01  ...  ['대출/NNG;연체율/NNG;오르/VV', '대출/NNG;연체율/NNG;높/VA'...\n",
              "...            ...  ...                                                ...\n",
              "192728  2017-12-31  ...  ['체질/NNG;개선/NNG;성장/NNG;잠재력/NNG;확충/NNG', '수요측면/...\n",
              "192729  2017-12-31  ...  ['은행/NNG;예금/NNG;금리/NNG;오르/VV', '금리/NNG;인상/NNG'...\n",
              "192730  2017-12-31  ...  ['미/NNG;금리/NNG;인상/NNG', '전세가격/NNG;안정/NNG', '판매...\n",
              "192731  2017-12-31  ...                       ['주택담보대출/NNG;금리/NNG;최대/NNG']\n",
              "192732  2017-12-31  ...  ['대출/NNG;상환/NNG;부담/NNG;증가/NNG', '가계/NNG;부채/NNG...\n",
              "\n",
              "[192733 rows x 6 columns]"
            ]
          },
          "metadata": {
            "tags": []
          },
          "execution_count": 2
        }
      ]
    },
    {
      "cell_type": "code",
      "metadata": {
        "id": "Q7IGC6t4auQ6",
        "colab_type": "code",
        "colab": {
          "base_uri": "https://localhost:8080/",
          "height": 143
        },
        "outputId": "5fcd0db3-ae6c-4cc2-ac5f-125f7e1ca4e8"
      },
      "source": [
        "articles.isna().sum()"
      ],
      "execution_count": 3,
      "outputs": [
        {
          "output_type": "execute_result",
          "data": {
            "text/plain": [
              "date            0\n",
              "source          0\n",
              "title           0\n",
              "content      1710\n",
              "Tokenized       0\n",
              "N-gram          0\n",
              "dtype: int64"
            ]
          },
          "metadata": {
            "tags": []
          },
          "execution_count": 3
        }
      ]
    },
    {
      "cell_type": "code",
      "metadata": {
        "id": "ZM17iPeiZ8Vr",
        "colab_type": "code",
        "colab": {}
      },
      "source": [
        "articles = articles.dropna(axis=0)"
      ],
      "execution_count": 4,
      "outputs": []
    },
    {
      "cell_type": "code",
      "metadata": {
        "id": "e5EllS09adD6",
        "colab_type": "code",
        "colab": {
          "base_uri": "https://localhost:8080/",
          "height": 912
        },
        "outputId": "3b8944db-c33e-413a-9635-1a506c59be91"
      },
      "source": [
        "articles"
      ],
      "execution_count": 5,
      "outputs": [
        {
          "output_type": "execute_result",
          "data": {
            "text/html": [
              "<div>\n",
              "<style scoped>\n",
              "    .dataframe tbody tr th:only-of-type {\n",
              "        vertical-align: middle;\n",
              "    }\n",
              "\n",
              "    .dataframe tbody tr th {\n",
              "        vertical-align: top;\n",
              "    }\n",
              "\n",
              "    .dataframe thead th {\n",
              "        text-align: right;\n",
              "    }\n",
              "</style>\n",
              "<table border=\"1\" class=\"dataframe\">\n",
              "  <thead>\n",
              "    <tr style=\"text-align: right;\">\n",
              "      <th></th>\n",
              "      <th>date</th>\n",
              "      <th>source</th>\n",
              "      <th>title</th>\n",
              "      <th>content</th>\n",
              "      <th>Tokenized</th>\n",
              "      <th>N-gram</th>\n",
              "    </tr>\n",
              "  </thead>\n",
              "  <tbody>\n",
              "    <tr>\n",
              "      <th>0</th>\n",
              "      <td>2005-05-01</td>\n",
              "      <td>연합뉴스</td>\n",
              "      <td>&lt;은행전쟁 원년 `빅4' 1분기 승패는&gt;</td>\n",
              "      <td>\"(서울=연합뉴스) 경수현기자 = 이른바 `은행들의 전쟁 원년인 올해 4대 시중은행...</td>\n",
              "      <td>['경수/NNG', '기자/NNG', '은행/NNG', '전쟁/NNG', '원년/N...</td>\n",
              "      <td>['자산/NNG;건전성/NNG;개선/NNG', '무수익여신/NNG;증가/NNG', ...</td>\n",
              "    </tr>\n",
              "    <tr>\n",
              "      <th>1</th>\n",
              "      <td>2005-05-01</td>\n",
              "      <td>이데일리</td>\n",
              "      <td>뉴욕증시, FOMC·고용지표 촉각</td>\n",
              "      <td>뉴욕=edaily 안근모특파원 뉴욕증시 투자자들이 시장의 방향을 정하지 못한채 하루...</td>\n",
              "      <td>['뉴욕/NNG', '안/MAG', '근모/NNG', '특파원/NNG', '시장/N...</td>\n",
              "      <td>['인플레이션/NNG;압력/NNG;억제/NNG', '금리/NNG;인상/NNG;긴축/...</td>\n",
              "    </tr>\n",
              "    <tr>\n",
              "      <th>2</th>\n",
              "      <td>2005-05-01</td>\n",
              "      <td>이데일리</td>\n",
              "      <td>증시 갈림길..FOMC에 쏠린 눈</td>\n",
              "      <td>edaily 공희정기자 4월은 잔인했다. 어닝 시즌 기업들이 내놓은 실적은 실망감만...</td>\n",
              "      <td>['공희/NNG', '정기/NNG', '잔인/NNG', '실적시즌/NNG', '기업...</td>\n",
              "      <td>['기업/NNG;수익성/NNG;악화/NNG;우려/NNG', '경제/NNG;지표/NN...</td>\n",
              "    </tr>\n",
              "    <tr>\n",
              "      <th>3</th>\n",
              "      <td>2005-05-01</td>\n",
              "      <td>이데일리</td>\n",
              "      <td>펀드 수익률, 초라한 주식형..빛나는 채권형</td>\n",
              "      <td>edaily 권소현기자 지난주(4월25~29일) 940선대에서 출발한 증시가 910...</td>\n",
              "      <td>['기자/NNG', '선대/NNG', '출발/NNG', '하/VV', '증시/NNG...</td>\n",
              "      <td>['글로벌/NNG;경기/NNG;둔화/NNG;우려/NNG;강세/NNG', '경기/NN...</td>\n",
              "    </tr>\n",
              "    <tr>\n",
              "      <th>4</th>\n",
              "      <td>2005-05-01</td>\n",
              "      <td>연합뉴스</td>\n",
              "      <td>3월 中企 연체율 2.6%..작년말보다 0.5%p상승</td>\n",
              "      <td>작년동기.전월 대비로는 0.2%p 낮아     (서울=연합뉴스) 박성제기자= 3월 ...</td>\n",
              "      <td>['대비/NNG', '낮/VA', '기자/NNG', '중소기업/NNG', '대출/N...</td>\n",
              "      <td>['대출/NNG;연체율/NNG;오르/VV', '대출/NNG;연체율/NNG;높/VA'...</td>\n",
              "    </tr>\n",
              "    <tr>\n",
              "      <th>...</th>\n",
              "      <td>...</td>\n",
              "      <td>...</td>\n",
              "      <td>...</td>\n",
              "      <td>...</td>\n",
              "      <td>...</td>\n",
              "      <td>...</td>\n",
              "    </tr>\n",
              "    <tr>\n",
              "      <th>192728</th>\n",
              "      <td>2017-12-31</td>\n",
              "      <td>이데일리</td>\n",
              "      <td>[전문]이주열 한국은행 총재 신년사</td>\n",
              "      <td>이데일리 김정남 기자 이주열 한국은행 총재는 31일 신년사를 통해 “변화의 방향이나...</td>\n",
              "      <td>['기자/NNG', '신년사/NNG', '통하/VV', '변화/NNG', '방향/N...</td>\n",
              "      <td>['체질/NNG;개선/NNG;성장/NNG;잠재력/NNG;확충/NNG', '수요측면/...</td>\n",
              "    </tr>\n",
              "    <tr>\n",
              "      <th>192729</th>\n",
              "      <td>2017-12-31</td>\n",
              "      <td>연합뉴스</td>\n",
              "      <td>1년 정기예금금리 연 2% 육박…32개월 만에 최고</td>\n",
              "      <td>11월 판매 정기예금 10개 중 4개가 금리 2%대올해 10월까지 정기예금 증가규모...</td>\n",
              "      <td>['판매/NNG', '정기/NNG', '예금/NNG', '중/NNG', '금리/NN...</td>\n",
              "      <td>['은행/NNG;예금/NNG;금리/NNG;오르/VV', '금리/NNG;인상/NNG'...</td>\n",
              "    </tr>\n",
              "    <tr>\n",
              "      <th>192730</th>\n",
              "      <td>2017-12-31</td>\n",
              "      <td>이데일리</td>\n",
              "      <td>[미리보는 이데일리신문]영세 노동자 위한다면 노조도 양보하라</td>\n",
              "      <td>이데일리 원다연 기자 다음은 1일자 이데일리신문 주요기사다. △1면-영세 노동자 위...</td>\n",
              "      <td>['연/NNG', '기자/NNG', '신문/NNG', '기사/NNG', '면/NNG...</td>\n",
              "      <td>['미/NNG;금리/NNG;인상/NNG', '전세가격/NNG;안정/NNG', '판매...</td>\n",
              "    </tr>\n",
              "    <tr>\n",
              "      <th>192731</th>\n",
              "      <td>2017-12-31</td>\n",
              "      <td>연합뉴스</td>\n",
              "      <td>[연합뉴스 이 시각 헤드라인] - 10:00</td>\n",
              "      <td>■ WSJ \"삼정2호·라이트하우스호 안보리 제재 중국이 반대\"미국이 블랙리스트 지정...</td>\n",
              "      <td>['삼정/NNG', '안보리/NNG', '제재/NNG', '반대/NNG', '블랙리...</td>\n",
              "      <td>['주택담보대출/NNG;금리/NNG;최대/NNG']</td>\n",
              "    </tr>\n",
              "    <tr>\n",
              "      <th>192732</th>\n",
              "      <td>2017-12-31</td>\n",
              "      <td>연합인포맥스</td>\n",
              "      <td>김태영 은행연합회장 \"금리인상기 은행 자산건전성 강화해야\"</td>\n",
              "      <td>(서울=연합인포맥스) 정지서 기자 = 김태영 은행연합회장은 2018년이 은행을 비롯...</td>\n",
              "      <td>['기자/NNG', '은행/NNG', '비롯/NNG', '금융/NNG', '모두/N...</td>\n",
              "      <td>['대출/NNG;상환/NNG;부담/NNG;증가/NNG', '가계/NNG;부채/NNG...</td>\n",
              "    </tr>\n",
              "  </tbody>\n",
              "</table>\n",
              "<p>191023 rows × 6 columns</p>\n",
              "</div>"
            ],
            "text/plain": [
              "              date  ...                                             N-gram\n",
              "0       2005-05-01  ...  ['자산/NNG;건전성/NNG;개선/NNG', '무수익여신/NNG;증가/NNG', ...\n",
              "1       2005-05-01  ...  ['인플레이션/NNG;압력/NNG;억제/NNG', '금리/NNG;인상/NNG;긴축/...\n",
              "2       2005-05-01  ...  ['기업/NNG;수익성/NNG;악화/NNG;우려/NNG', '경제/NNG;지표/NN...\n",
              "3       2005-05-01  ...  ['글로벌/NNG;경기/NNG;둔화/NNG;우려/NNG;강세/NNG', '경기/NN...\n",
              "4       2005-05-01  ...  ['대출/NNG;연체율/NNG;오르/VV', '대출/NNG;연체율/NNG;높/VA'...\n",
              "...            ...  ...                                                ...\n",
              "192728  2017-12-31  ...  ['체질/NNG;개선/NNG;성장/NNG;잠재력/NNG;확충/NNG', '수요측면/...\n",
              "192729  2017-12-31  ...  ['은행/NNG;예금/NNG;금리/NNG;오르/VV', '금리/NNG;인상/NNG'...\n",
              "192730  2017-12-31  ...  ['미/NNG;금리/NNG;인상/NNG', '전세가격/NNG;안정/NNG', '판매...\n",
              "192731  2017-12-31  ...                       ['주택담보대출/NNG;금리/NNG;최대/NNG']\n",
              "192732  2017-12-31  ...  ['대출/NNG;상환/NNG;부담/NNG;증가/NNG', '가계/NNG;부채/NNG...\n",
              "\n",
              "[191023 rows x 6 columns]"
            ]
          },
          "metadata": {
            "tags": []
          },
          "execution_count": 5
        }
      ]
    },
    {
      "cell_type": "code",
      "metadata": {
        "id": "2rUiiprTIKcR",
        "colab_type": "code",
        "colab": {
          "base_uri": "https://localhost:8080/",
          "height": 145
        },
        "outputId": "59258306-8cb6-461e-bfa7-2c4b3ff1f3c5"
      },
      "source": [
        "articles['N-gram']=articles['N-gram'].apply(lambda x : x.replace('[','').replace(']','').replace('\\'',''))"
      ],
      "execution_count": 6,
      "outputs": [
        {
          "output_type": "stream",
          "text": [
            "/usr/local/lib/python3.6/dist-packages/ipykernel_launcher.py:1: SettingWithCopyWarning: \n",
            "A value is trying to be set on a copy of a slice from a DataFrame.\n",
            "Try using .loc[row_indexer,col_indexer] = value instead\n",
            "\n",
            "See the caveats in the documentation: https://pandas.pydata.org/pandas-docs/stable/user_guide/indexing.html#returning-a-view-versus-a-copy\n",
            "  \"\"\"Entry point for launching an IPython kernel.\n"
          ],
          "name": "stderr"
        }
      ]
    },
    {
      "cell_type": "code",
      "metadata": {
        "id": "zaymcX06Ig03",
        "colab_type": "code",
        "colab": {
          "base_uri": "https://localhost:8080/",
          "height": 233
        },
        "outputId": "c092869a-fa5f-49f8-f2ff-2996f3072170"
      },
      "source": [
        "articles['N-gram']"
      ],
      "execution_count": 8,
      "outputs": [
        {
          "output_type": "execute_result",
          "data": {
            "text/plain": [
              "0         자산/NNG;건전성/NNG;개선/NNG, 무수익여신/NNG;증가/NNG, 수익성/N...\n",
              "1         인플레이션/NNG;압력/NNG;억제/NNG, 금리/NNG;인상/NNG;긴축/NNG,...\n",
              "2         기업/NNG;수익성/NNG;악화/NNG;우려/NNG, 경제/NNG;지표/NNG;성장...\n",
              "3         글로벌/NNG;경기/NNG;둔화/NNG;우려/NNG;강세/NNG, 경기/NNG;지표...\n",
              "4         대출/NNG;연체율/NNG;오르/VV, 대출/NNG;연체율/NNG;높/VA, 대출심...\n",
              "                                ...                        \n",
              "192728    체질/NNG;개선/NNG;성장/NNG;잠재력/NNG;확충/NNG, 수요측면/NNG;...\n",
              "192729    은행/NNG;예금/NNG;금리/NNG;오르/VV, 금리/NNG;인상/NNG, 금리/...\n",
              "192730    미/NNG;금리/NNG;인상/NNG, 전세가격/NNG;안정/NNG, 판매/NNG;부...\n",
              "192731                             주택담보대출/NNG;금리/NNG;최대/NNG\n",
              "192732    대출/NNG;상환/NNG;부담/NNG;증가/NNG, 가계/NNG;부채/NNG;질적/...\n",
              "Name: N-gram, Length: 191023, dtype: object"
            ]
          },
          "metadata": {
            "tags": []
          },
          "execution_count": 8
        }
      ]
    },
    {
      "cell_type": "code",
      "metadata": {
        "id": "2mMUHKLYLh-5",
        "colab_type": "code",
        "colab": {
          "base_uri": "https://localhost:8080/",
          "height": 145
        },
        "outputId": "31ff45a5-7bc7-4809-aa63-4af561ebf7c8"
      },
      "source": [
        "articles['Tokenized']=articles['Tokenized'].apply(lambda x : x.replace('[','').replace(']','').replace('\\'',''))"
      ],
      "execution_count": 9,
      "outputs": [
        {
          "output_type": "stream",
          "text": [
            "/usr/local/lib/python3.6/dist-packages/ipykernel_launcher.py:1: SettingWithCopyWarning: \n",
            "A value is trying to be set on a copy of a slice from a DataFrame.\n",
            "Try using .loc[row_indexer,col_indexer] = value instead\n",
            "\n",
            "See the caveats in the documentation: https://pandas.pydata.org/pandas-docs/stable/user_guide/indexing.html#returning-a-view-versus-a-copy\n",
            "  \"\"\"Entry point for launching an IPython kernel.\n"
          ],
          "name": "stderr"
        }
      ]
    },
    {
      "cell_type": "code",
      "metadata": {
        "id": "EtdyWVQfOZWv",
        "colab_type": "code",
        "colab": {
          "base_uri": "https://localhost:8080/",
          "height": 233
        },
        "outputId": "5890506f-9e29-4a79-ebc3-f302aaa9c99c"
      },
      "source": [
        "articles['Tokenized']"
      ],
      "execution_count": 10,
      "outputs": [
        {
          "output_type": "execute_result",
          "data": {
            "text/plain": [
              "0         경수/NNG, 기자/NNG, 은행/NNG, 전쟁/NNG, 원년/NNG, 전적/NNG...\n",
              "1         뉴욕/NNG, 안/MAG, 근모/NNG, 특파원/NNG, 시장/NNG, 방향/NNG...\n",
              "2         공희/NNG, 정기/NNG, 잔인/NNG, 실적시즌/NNG, 기업/NNG, 내놓/V...\n",
              "3         기자/NNG, 선대/NNG, 출발/NNG, 하/VV, 증시/NNG, 선대/NNG, ...\n",
              "4         대비/NNG, 낮/VA, 기자/NNG, 중소기업/NNG, 대출/NNG, 연체율/NN...\n",
              "                                ...                        \n",
              "192728    기자/NNG, 신년사/NNG, 통하/VV, 변화/NNG, 방향/NNG, 예측/NNG...\n",
              "192729    판매/NNG, 정기/NNG, 예금/NNG, 중/NNG, 금리/NNG, 정기/NNG,...\n",
              "192730    연/NNG, 기자/NNG, 신문/NNG, 기사/NNG, 면/NNG, 영세/NNG, ...\n",
              "192731    삼정/NNG, 안보리/NNG, 제재/NNG, 반대/NNG, 블랙리스트/NNG, 지정...\n",
              "192732    기자/NNG, 은행/NNG, 비롯/NNG, 금융/NNG, 모두/NNG, 자산/NNG...\n",
              "Name: Tokenized, Length: 191023, dtype: object"
            ]
          },
          "metadata": {
            "tags": []
          },
          "execution_count": 10
        }
      ]
    },
    {
      "cell_type": "code",
      "metadata": {
        "id": "JKazrrl9OiZc",
        "colab_type": "code",
        "colab": {}
      },
      "source": [
        "# (articles['Tokenized'][0] + ', ' + articles['N-gram'][0])"
      ],
      "execution_count": null,
      "outputs": []
    },
    {
      "cell_type": "code",
      "metadata": {
        "id": "wgHjTmnNO45H",
        "colab_type": "code",
        "colab": {}
      },
      "source": [
        "# articles['N-gram'][0] + ', ' + 'aa'"
      ],
      "execution_count": null,
      "outputs": []
    },
    {
      "cell_type": "code",
      "metadata": {
        "id": "tqtuIIeJFUjl",
        "colab_type": "code",
        "colab": {
          "base_uri": "https://localhost:8080/",
          "height": 145
        },
        "outputId": "0b44731b-02e9-4c78-c308-4964cd0a46ca"
      },
      "source": [
        "articles['ngram(token+ngram)'] = articles['N-gram'] + ', '+ articles['Tokenized']"
      ],
      "execution_count": 11,
      "outputs": [
        {
          "output_type": "stream",
          "text": [
            "/usr/local/lib/python3.6/dist-packages/ipykernel_launcher.py:1: SettingWithCopyWarning: \n",
            "A value is trying to be set on a copy of a slice from a DataFrame.\n",
            "Try using .loc[row_indexer,col_indexer] = value instead\n",
            "\n",
            "See the caveats in the documentation: https://pandas.pydata.org/pandas-docs/stable/user_guide/indexing.html#returning-a-view-versus-a-copy\n",
            "  \"\"\"Entry point for launching an IPython kernel.\n"
          ],
          "name": "stderr"
        }
      ]
    },
    {
      "cell_type": "code",
      "metadata": {
        "id": "YTrIxyN5FYyl",
        "colab_type": "code",
        "colab": {
          "base_uri": "https://localhost:8080/",
          "height": 233
        },
        "outputId": "b6a1775f-34b4-4f9e-a317-1bdaa4dec1ae"
      },
      "source": [
        "articles['ngram(token+ngram)']"
      ],
      "execution_count": 12,
      "outputs": [
        {
          "output_type": "execute_result",
          "data": {
            "text/plain": [
              "0         자산/NNG;건전성/NNG;개선/NNG, 무수익여신/NNG;증가/NNG, 수익성/N...\n",
              "1         인플레이션/NNG;압력/NNG;억제/NNG, 금리/NNG;인상/NNG;긴축/NNG,...\n",
              "2         기업/NNG;수익성/NNG;악화/NNG;우려/NNG, 경제/NNG;지표/NNG;성장...\n",
              "3         글로벌/NNG;경기/NNG;둔화/NNG;우려/NNG;강세/NNG, 경기/NNG;지표...\n",
              "4         대출/NNG;연체율/NNG;오르/VV, 대출/NNG;연체율/NNG;높/VA, 대출심...\n",
              "                                ...                        \n",
              "192728    체질/NNG;개선/NNG;성장/NNG;잠재력/NNG;확충/NNG, 수요측면/NNG;...\n",
              "192729    은행/NNG;예금/NNG;금리/NNG;오르/VV, 금리/NNG;인상/NNG, 금리/...\n",
              "192730    미/NNG;금리/NNG;인상/NNG, 전세가격/NNG;안정/NNG, 판매/NNG;부...\n",
              "192731    주택담보대출/NNG;금리/NNG;최대/NNG, 삼정/NNG, 안보리/NNG, 제재/...\n",
              "192732    대출/NNG;상환/NNG;부담/NNG;증가/NNG, 가계/NNG;부채/NNG;질적/...\n",
              "Name: ngram(token+ngram), Length: 191023, dtype: object"
            ]
          },
          "metadata": {
            "tags": []
          },
          "execution_count": 12
        }
      ]
    },
    {
      "cell_type": "code",
      "metadata": {
        "id": "KYVvCW7aP0HV",
        "colab_type": "code",
        "colab": {
          "base_uri": "https://localhost:8080/",
          "height": 161
        },
        "outputId": "5b2f0447-a951-4015-f976-d50559cf5131"
      },
      "source": [
        "articles.isna().sum()"
      ],
      "execution_count": 13,
      "outputs": [
        {
          "output_type": "execute_result",
          "data": {
            "text/plain": [
              "date                  0\n",
              "source                0\n",
              "title                 0\n",
              "content               0\n",
              "Tokenized             0\n",
              "N-gram                0\n",
              "ngram(token+ngram)    0\n",
              "dtype: int64"
            ]
          },
          "metadata": {
            "tags": []
          },
          "execution_count": 13
        }
      ]
    },
    {
      "cell_type": "code",
      "metadata": {
        "id": "bKSW8x2ZQqCs",
        "colab_type": "code",
        "colab": {
          "base_uri": "https://localhost:8080/",
          "height": 35
        },
        "outputId": "93483f4f-1da0-4ba0-9477-ab7aa2b45c17"
      },
      "source": [
        "articles['N-gram'][5]"
      ],
      "execution_count": 14,
      "outputs": [
        {
          "output_type": "execute_result",
          "data": {
            "application/vnd.google.colaboratory.intrinsic+json": {
              "type": "string"
            },
            "text/plain": [
              "'수입/NNG;증대/NNG, 실적/NNG;높/VV'"
            ]
          },
          "metadata": {
            "tags": []
          },
          "execution_count": 14
        }
      ]
    },
    {
      "cell_type": "code",
      "metadata": {
        "id": "WRJ9mp58QvIv",
        "colab_type": "code",
        "colab": {}
      },
      "source": [
        "fin_call_rate = pd.read_csv('drive/My Drive/Projects/final_call_rate(modified).csv')"
      ],
      "execution_count": 15,
      "outputs": []
    },
    {
      "cell_type": "code",
      "metadata": {
        "id": "_ZFPj2XqTSoW",
        "colab_type": "code",
        "colab": {
          "base_uri": "https://localhost:8080/",
          "height": 419
        },
        "outputId": "6a19dd14-aab2-42c6-dbb5-c1783b17d019"
      },
      "source": [
        "call_rate = fin_call_rate.copy()\n",
        "call_rate"
      ],
      "execution_count": 16,
      "outputs": [
        {
          "output_type": "execute_result",
          "data": {
            "text/html": [
              "<div>\n",
              "<style scoped>\n",
              "    .dataframe tbody tr th:only-of-type {\n",
              "        vertical-align: middle;\n",
              "    }\n",
              "\n",
              "    .dataframe tbody tr th {\n",
              "        vertical-align: top;\n",
              "    }\n",
              "\n",
              "    .dataframe thead th {\n",
              "        text-align: right;\n",
              "    }\n",
              "</style>\n",
              "<table border=\"1\" class=\"dataframe\">\n",
              "  <thead>\n",
              "    <tr style=\"text-align: right;\">\n",
              "      <th></th>\n",
              "      <th>date</th>\n",
              "      <th>rate</th>\n",
              "      <th>date_MoM</th>\n",
              "      <th>rate_MoM</th>\n",
              "      <th>up_down</th>\n",
              "    </tr>\n",
              "  </thead>\n",
              "  <tbody>\n",
              "    <tr>\n",
              "      <th>0</th>\n",
              "      <td>2017-12-31</td>\n",
              "      <td>1.58</td>\n",
              "      <td>2017-11-30</td>\n",
              "      <td>1.53</td>\n",
              "      <td>up</td>\n",
              "    </tr>\n",
              "    <tr>\n",
              "      <th>1</th>\n",
              "      <td>2017-12-30</td>\n",
              "      <td>1.58</td>\n",
              "      <td>2017-11-30</td>\n",
              "      <td>1.53</td>\n",
              "      <td>up</td>\n",
              "    </tr>\n",
              "    <tr>\n",
              "      <th>2</th>\n",
              "      <td>2017-12-29</td>\n",
              "      <td>1.58</td>\n",
              "      <td>2017-11-29</td>\n",
              "      <td>1.26</td>\n",
              "      <td>up</td>\n",
              "    </tr>\n",
              "    <tr>\n",
              "      <th>3</th>\n",
              "      <td>2017-12-28</td>\n",
              "      <td>1.55</td>\n",
              "      <td>2017-11-28</td>\n",
              "      <td>1.26</td>\n",
              "      <td>up</td>\n",
              "    </tr>\n",
              "    <tr>\n",
              "      <th>4</th>\n",
              "      <td>2017-12-27</td>\n",
              "      <td>1.51</td>\n",
              "      <td>2017-11-27</td>\n",
              "      <td>1.26</td>\n",
              "      <td>up</td>\n",
              "    </tr>\n",
              "    <tr>\n",
              "      <th>...</th>\n",
              "      <td>...</td>\n",
              "      <td>...</td>\n",
              "      <td>...</td>\n",
              "      <td>...</td>\n",
              "      <td>...</td>\n",
              "    </tr>\n",
              "    <tr>\n",
              "      <th>4623</th>\n",
              "      <td>2005-05-05</td>\n",
              "      <td>3.21</td>\n",
              "      <td>2005-04-05</td>\n",
              "      <td>3.24</td>\n",
              "      <td>down</td>\n",
              "    </tr>\n",
              "    <tr>\n",
              "      <th>4624</th>\n",
              "      <td>2005-05-04</td>\n",
              "      <td>3.21</td>\n",
              "      <td>2005-04-04</td>\n",
              "      <td>3.24</td>\n",
              "      <td>down</td>\n",
              "    </tr>\n",
              "    <tr>\n",
              "      <th>4625</th>\n",
              "      <td>2005-05-03</td>\n",
              "      <td>3.30</td>\n",
              "      <td>2005-04-03</td>\n",
              "      <td>3.25</td>\n",
              "      <td>up</td>\n",
              "    </tr>\n",
              "    <tr>\n",
              "      <th>4626</th>\n",
              "      <td>2005-05-02</td>\n",
              "      <td>3.29</td>\n",
              "      <td>2005-04-02</td>\n",
              "      <td>3.25</td>\n",
              "      <td>up</td>\n",
              "    </tr>\n",
              "    <tr>\n",
              "      <th>4627</th>\n",
              "      <td>2005-05-01</td>\n",
              "      <td>3.29</td>\n",
              "      <td>2005-04-01</td>\n",
              "      <td>3.25</td>\n",
              "      <td>up</td>\n",
              "    </tr>\n",
              "  </tbody>\n",
              "</table>\n",
              "<p>4628 rows × 5 columns</p>\n",
              "</div>"
            ],
            "text/plain": [
              "            date  rate    date_MoM  rate_MoM up_down\n",
              "0     2017-12-31  1.58  2017-11-30      1.53      up\n",
              "1     2017-12-30  1.58  2017-11-30      1.53      up\n",
              "2     2017-12-29  1.58  2017-11-29      1.26      up\n",
              "3     2017-12-28  1.55  2017-11-28      1.26      up\n",
              "4     2017-12-27  1.51  2017-11-27      1.26      up\n",
              "...          ...   ...         ...       ...     ...\n",
              "4623  2005-05-05  3.21  2005-04-05      3.24    down\n",
              "4624  2005-05-04  3.21  2005-04-04      3.24    down\n",
              "4625  2005-05-03  3.30  2005-04-03      3.25      up\n",
              "4626  2005-05-02  3.29  2005-04-02      3.25      up\n",
              "4627  2005-05-01  3.29  2005-04-01      3.25      up\n",
              "\n",
              "[4628 rows x 5 columns]"
            ]
          },
          "metadata": {
            "tags": []
          },
          "execution_count": 16
        }
      ]
    },
    {
      "cell_type": "code",
      "metadata": {
        "id": "oPlGIxOsTht7",
        "colab_type": "code",
        "colab": {}
      },
      "source": [
        "call_rate = call_rate.rename({'up_down' : '1_M_close_up_down'}, axis=1)"
      ],
      "execution_count": 17,
      "outputs": []
    },
    {
      "cell_type": "code",
      "metadata": {
        "id": "46t0gQBjUc-9",
        "colab_type": "code",
        "colab": {
          "base_uri": "https://localhost:8080/",
          "height": 419
        },
        "outputId": "130f066b-a6e0-46af-a20a-fc2ec26f38e1"
      },
      "source": [
        "call_rate"
      ],
      "execution_count": 18,
      "outputs": [
        {
          "output_type": "execute_result",
          "data": {
            "text/html": [
              "<div>\n",
              "<style scoped>\n",
              "    .dataframe tbody tr th:only-of-type {\n",
              "        vertical-align: middle;\n",
              "    }\n",
              "\n",
              "    .dataframe tbody tr th {\n",
              "        vertical-align: top;\n",
              "    }\n",
              "\n",
              "    .dataframe thead th {\n",
              "        text-align: right;\n",
              "    }\n",
              "</style>\n",
              "<table border=\"1\" class=\"dataframe\">\n",
              "  <thead>\n",
              "    <tr style=\"text-align: right;\">\n",
              "      <th></th>\n",
              "      <th>date</th>\n",
              "      <th>rate</th>\n",
              "      <th>date_MoM</th>\n",
              "      <th>rate_MoM</th>\n",
              "      <th>1_M_close_up_down</th>\n",
              "    </tr>\n",
              "  </thead>\n",
              "  <tbody>\n",
              "    <tr>\n",
              "      <th>0</th>\n",
              "      <td>2017-12-31</td>\n",
              "      <td>1.58</td>\n",
              "      <td>2017-11-30</td>\n",
              "      <td>1.53</td>\n",
              "      <td>up</td>\n",
              "    </tr>\n",
              "    <tr>\n",
              "      <th>1</th>\n",
              "      <td>2017-12-30</td>\n",
              "      <td>1.58</td>\n",
              "      <td>2017-11-30</td>\n",
              "      <td>1.53</td>\n",
              "      <td>up</td>\n",
              "    </tr>\n",
              "    <tr>\n",
              "      <th>2</th>\n",
              "      <td>2017-12-29</td>\n",
              "      <td>1.58</td>\n",
              "      <td>2017-11-29</td>\n",
              "      <td>1.26</td>\n",
              "      <td>up</td>\n",
              "    </tr>\n",
              "    <tr>\n",
              "      <th>3</th>\n",
              "      <td>2017-12-28</td>\n",
              "      <td>1.55</td>\n",
              "      <td>2017-11-28</td>\n",
              "      <td>1.26</td>\n",
              "      <td>up</td>\n",
              "    </tr>\n",
              "    <tr>\n",
              "      <th>4</th>\n",
              "      <td>2017-12-27</td>\n",
              "      <td>1.51</td>\n",
              "      <td>2017-11-27</td>\n",
              "      <td>1.26</td>\n",
              "      <td>up</td>\n",
              "    </tr>\n",
              "    <tr>\n",
              "      <th>...</th>\n",
              "      <td>...</td>\n",
              "      <td>...</td>\n",
              "      <td>...</td>\n",
              "      <td>...</td>\n",
              "      <td>...</td>\n",
              "    </tr>\n",
              "    <tr>\n",
              "      <th>4623</th>\n",
              "      <td>2005-05-05</td>\n",
              "      <td>3.21</td>\n",
              "      <td>2005-04-05</td>\n",
              "      <td>3.24</td>\n",
              "      <td>down</td>\n",
              "    </tr>\n",
              "    <tr>\n",
              "      <th>4624</th>\n",
              "      <td>2005-05-04</td>\n",
              "      <td>3.21</td>\n",
              "      <td>2005-04-04</td>\n",
              "      <td>3.24</td>\n",
              "      <td>down</td>\n",
              "    </tr>\n",
              "    <tr>\n",
              "      <th>4625</th>\n",
              "      <td>2005-05-03</td>\n",
              "      <td>3.30</td>\n",
              "      <td>2005-04-03</td>\n",
              "      <td>3.25</td>\n",
              "      <td>up</td>\n",
              "    </tr>\n",
              "    <tr>\n",
              "      <th>4626</th>\n",
              "      <td>2005-05-02</td>\n",
              "      <td>3.29</td>\n",
              "      <td>2005-04-02</td>\n",
              "      <td>3.25</td>\n",
              "      <td>up</td>\n",
              "    </tr>\n",
              "    <tr>\n",
              "      <th>4627</th>\n",
              "      <td>2005-05-01</td>\n",
              "      <td>3.29</td>\n",
              "      <td>2005-04-01</td>\n",
              "      <td>3.25</td>\n",
              "      <td>up</td>\n",
              "    </tr>\n",
              "  </tbody>\n",
              "</table>\n",
              "<p>4628 rows × 5 columns</p>\n",
              "</div>"
            ],
            "text/plain": [
              "            date  rate    date_MoM  rate_MoM 1_M_close_up_down\n",
              "0     2017-12-31  1.58  2017-11-30      1.53                up\n",
              "1     2017-12-30  1.58  2017-11-30      1.53                up\n",
              "2     2017-12-29  1.58  2017-11-29      1.26                up\n",
              "3     2017-12-28  1.55  2017-11-28      1.26                up\n",
              "4     2017-12-27  1.51  2017-11-27      1.26                up\n",
              "...          ...   ...         ...       ...               ...\n",
              "4623  2005-05-05  3.21  2005-04-05      3.24              down\n",
              "4624  2005-05-04  3.21  2005-04-04      3.24              down\n",
              "4625  2005-05-03  3.30  2005-04-03      3.25                up\n",
              "4626  2005-05-02  3.29  2005-04-02      3.25                up\n",
              "4627  2005-05-01  3.29  2005-04-01      3.25                up\n",
              "\n",
              "[4628 rows x 5 columns]"
            ]
          },
          "metadata": {
            "tags": []
          },
          "execution_count": 18
        }
      ]
    },
    {
      "cell_type": "code",
      "metadata": {
        "id": "esDTKyitUeBq",
        "colab_type": "code",
        "colab": {}
      },
      "source": [
        "df_articles = pd.merge(call_rate, articles, how='inner', on='date')"
      ],
      "execution_count": 19,
      "outputs": []
    },
    {
      "cell_type": "code",
      "metadata": {
        "id": "g26FQHxsd8EL",
        "colab_type": "code",
        "colab": {}
      },
      "source": [
        "df_articles = df_articles.drop(['rate','date_MoM','rate_MoM'],axis=1)"
      ],
      "execution_count": 21,
      "outputs": []
    },
    {
      "cell_type": "code",
      "metadata": {
        "id": "FQb-8rbkfjg6",
        "colab_type": "code",
        "colab": {}
      },
      "source": [
        "df_articles = df_articles.drop(['Tokenized','N-gram'],axis=1)"
      ],
      "execution_count": 22,
      "outputs": []
    },
    {
      "cell_type": "code",
      "metadata": {
        "id": "87G26Qfce2LN",
        "colab_type": "code",
        "colab": {}
      },
      "source": [
        "df_articles = df_articles[['date','title','content','ngram(token+ngram)','1_M_close_up_down','source']]"
      ],
      "execution_count": 23,
      "outputs": []
    },
    {
      "cell_type": "code",
      "metadata": {
        "id": "LK9iOpiMemlO",
        "colab_type": "code",
        "colab": {
          "base_uri": "https://localhost:8080/",
          "height": 606
        },
        "outputId": "b16f59a3-4ab5-4daf-a40e-6c4e216d8ceb"
      },
      "source": [
        "df_articles"
      ],
      "execution_count": 24,
      "outputs": [
        {
          "output_type": "execute_result",
          "data": {
            "text/html": [
              "<div>\n",
              "<style scoped>\n",
              "    .dataframe tbody tr th:only-of-type {\n",
              "        vertical-align: middle;\n",
              "    }\n",
              "\n",
              "    .dataframe tbody tr th {\n",
              "        vertical-align: top;\n",
              "    }\n",
              "\n",
              "    .dataframe thead th {\n",
              "        text-align: right;\n",
              "    }\n",
              "</style>\n",
              "<table border=\"1\" class=\"dataframe\">\n",
              "  <thead>\n",
              "    <tr style=\"text-align: right;\">\n",
              "      <th></th>\n",
              "      <th>date</th>\n",
              "      <th>title</th>\n",
              "      <th>content</th>\n",
              "      <th>ngram(token+ngram)</th>\n",
              "      <th>1_M_close_up_down</th>\n",
              "      <th>source</th>\n",
              "    </tr>\n",
              "  </thead>\n",
              "  <tbody>\n",
              "    <tr>\n",
              "      <th>0</th>\n",
              "      <td>2017-12-31</td>\n",
              "      <td>일본 은행들, 마이너스금리 고육책…예금계좌 유지료 부과 추진</td>\n",
              "      <td>(도쿄=연합뉴스) 김병규 특파원 = 마이너스 기준금리 정책으로 인한 수익 약화에 고...</td>\n",
              "      <td>수익/NNG;약화/NNG, 수익/NNG;악화/NNG, 수익/NNG;향상/NNG, 이...</td>\n",
              "      <td>up</td>\n",
              "      <td>연합뉴스</td>\n",
              "    </tr>\n",
              "    <tr>\n",
              "      <th>1</th>\n",
              "      <td>2017-12-31</td>\n",
              "      <td>최종구 \"코스닥, 혁신기업 대표시장\" 최흥식 \"금융사 지배구조 살려볼 것\"</td>\n",
              "      <td>- 금융당국 수장의 신년 화두- 금융위·금감원 `신뢰회복` 입모아최종구(왼쪽) 금융...</td>\n",
              "      <td>금리/NNG;인상/NNG;가계/NNG;부채/NNG;증가/NNG, 소비자/NNG;피해...</td>\n",
              "      <td>up</td>\n",
              "      <td>이데일리</td>\n",
              "    </tr>\n",
              "    <tr>\n",
              "      <th>2</th>\n",
              "      <td>2017-12-31</td>\n",
              "      <td>새해 첫달 주담대 금리 `年5%대` 눈앞</td>\n",
              "      <td>- 이달 은행 5곳 금리 4.58~4.85%- 작년 1월보다 최대 0.55%p 올라...</td>\n",
              "      <td>주택담보대출/NNG;금리/NNG;오르/VV, 경기/NNG;회복/NNG;불투명/NNG...</td>\n",
              "      <td>up</td>\n",
              "      <td>이데일리</td>\n",
              "    </tr>\n",
              "    <tr>\n",
              "      <th>3</th>\n",
              "      <td>2017-12-31</td>\n",
              "      <td>박스피 뚫은 코스피, 이젠 3000시대 여나…중소형株 주목</td>\n",
              "      <td>- 국내 증권사 12개 중 5개사 3000시대 전망- 글로벌 경기·이익성장·주주환원...</td>\n",
              "      <td>선진국/NNG;통화정책/NNG;불확실성/NNG, 통화정책/NNG;불확실성/NNG;확...</td>\n",
              "      <td>up</td>\n",
              "      <td>이데일리</td>\n",
              "    </tr>\n",
              "    <tr>\n",
              "      <th>4</th>\n",
              "      <td>2017-12-31</td>\n",
              "      <td>\"금융소외계층 지원 활성화…리스크 관리 만전\"</td>\n",
              "      <td>- 신년사김태영 은행연합회장- \"美연준 기준금리 인상…주요국 양적완화 축소 예정\"-...</td>\n",
              "      <td>금리/NNG;인상/NNG;시장/NNG;금리/NNG;상승/NNG, fed/NNG;금리...</td>\n",
              "      <td>up</td>\n",
              "      <td>이데일리</td>\n",
              "    </tr>\n",
              "    <tr>\n",
              "      <th>...</th>\n",
              "      <td>...</td>\n",
              "      <td>...</td>\n",
              "      <td>...</td>\n",
              "      <td>...</td>\n",
              "      <td>...</td>\n",
              "      <td>...</td>\n",
              "    </tr>\n",
              "    <tr>\n",
              "      <th>191018</th>\n",
              "      <td>2005-05-01</td>\n",
              "      <td>뉴욕증시, FOMC·고용지표 촉각</td>\n",
              "      <td>뉴욕=edaily 안근모특파원 뉴욕증시 투자자들이 시장의 방향을 정하지 못한채 하루...</td>\n",
              "      <td>인플레이션/NNG;압력/NNG;억제/NNG, 금리/NNG;인상/NNG;긴축/NNG,...</td>\n",
              "      <td>up</td>\n",
              "      <td>이데일리</td>\n",
              "    </tr>\n",
              "    <tr>\n",
              "      <th>191019</th>\n",
              "      <td>2005-05-01</td>\n",
              "      <td>증시 갈림길..FOMC에 쏠린 눈</td>\n",
              "      <td>edaily 공희정기자 4월은 잔인했다. 어닝 시즌 기업들이 내놓은 실적은 실망감만...</td>\n",
              "      <td>기업/NNG;수익성/NNG;악화/NNG;우려/NNG, 경제/NNG;지표/NNG;성장...</td>\n",
              "      <td>up</td>\n",
              "      <td>이데일리</td>\n",
              "    </tr>\n",
              "    <tr>\n",
              "      <th>191020</th>\n",
              "      <td>2005-05-01</td>\n",
              "      <td>펀드 수익률, 초라한 주식형..빛나는 채권형</td>\n",
              "      <td>edaily 권소현기자 지난주(4월25~29일) 940선대에서 출발한 증시가 910...</td>\n",
              "      <td>글로벌/NNG;경기/NNG;둔화/NNG;우려/NNG;강세/NNG, 경기/NNG;지표...</td>\n",
              "      <td>up</td>\n",
              "      <td>이데일리</td>\n",
              "    </tr>\n",
              "    <tr>\n",
              "      <th>191021</th>\n",
              "      <td>2005-05-01</td>\n",
              "      <td>3월 中企 연체율 2.6%..작년말보다 0.5%p상승</td>\n",
              "      <td>작년동기.전월 대비로는 0.2%p 낮아     (서울=연합뉴스) 박성제기자= 3월 ...</td>\n",
              "      <td>대출/NNG;연체율/NNG;오르/VV, 대출/NNG;연체율/NNG;높/VA, 대출심...</td>\n",
              "      <td>up</td>\n",
              "      <td>연합뉴스</td>\n",
              "    </tr>\n",
              "    <tr>\n",
              "      <th>191022</th>\n",
              "      <td>2005-05-01</td>\n",
              "      <td>은행 `팔고보자`식 단기실적주의 \"제무덤 판다\"</td>\n",
              "      <td>edaily 오상용기자 은행들이 수수료 수입에 급급한 나머지 `일단 팔고 보자`는 ...</td>\n",
              "      <td>수입/NNG;증대/NNG, 실적/NNG;높/VV, 기자/NNG, 은행/NNG, 수수...</td>\n",
              "      <td>up</td>\n",
              "      <td>이데일리</td>\n",
              "    </tr>\n",
              "  </tbody>\n",
              "</table>\n",
              "<p>191023 rows × 6 columns</p>\n",
              "</div>"
            ],
            "text/plain": [
              "              date  ... source\n",
              "0       2017-12-31  ...   연합뉴스\n",
              "1       2017-12-31  ...   이데일리\n",
              "2       2017-12-31  ...   이데일리\n",
              "3       2017-12-31  ...   이데일리\n",
              "4       2017-12-31  ...   이데일리\n",
              "...            ...  ...    ...\n",
              "191018  2005-05-01  ...   이데일리\n",
              "191019  2005-05-01  ...   이데일리\n",
              "191020  2005-05-01  ...   이데일리\n",
              "191021  2005-05-01  ...   연합뉴스\n",
              "191022  2005-05-01  ...   이데일리\n",
              "\n",
              "[191023 rows x 6 columns]"
            ]
          },
          "metadata": {
            "tags": []
          },
          "execution_count": 24
        }
      ]
    },
    {
      "cell_type": "code",
      "metadata": {
        "id": "54R5USfteC3A",
        "colab_type": "code",
        "colab": {}
      },
      "source": [
        "df_articles.to_csv('drive/My Drive/Projects/callrate_merged_articles.csv',index=False)"
      ],
      "execution_count": 26,
      "outputs": []
    },
    {
      "cell_type": "code",
      "metadata": {
        "id": "16Djt_2lge2J",
        "colab_type": "code",
        "colab": {
          "base_uri": "https://localhost:8080/",
          "height": 861
        },
        "outputId": "da157098-96d1-4a67-fdfc-7851408a6af0"
      },
      "source": [
        "pd.read_csv('drive/My Drive/Projects/callrate_merged_articles.csv')"
      ],
      "execution_count": 28,
      "outputs": [
        {
          "output_type": "execute_result",
          "data": {
            "text/html": [
              "<div>\n",
              "<style scoped>\n",
              "    .dataframe tbody tr th:only-of-type {\n",
              "        vertical-align: middle;\n",
              "    }\n",
              "\n",
              "    .dataframe tbody tr th {\n",
              "        vertical-align: top;\n",
              "    }\n",
              "\n",
              "    .dataframe thead th {\n",
              "        text-align: right;\n",
              "    }\n",
              "</style>\n",
              "<table border=\"1\" class=\"dataframe\">\n",
              "  <thead>\n",
              "    <tr style=\"text-align: right;\">\n",
              "      <th></th>\n",
              "      <th>date</th>\n",
              "      <th>title</th>\n",
              "      <th>content</th>\n",
              "      <th>ngram(token+ngram)</th>\n",
              "      <th>1_M_close_up_down</th>\n",
              "      <th>source</th>\n",
              "    </tr>\n",
              "  </thead>\n",
              "  <tbody>\n",
              "    <tr>\n",
              "      <th>0</th>\n",
              "      <td>2017-12-31</td>\n",
              "      <td>일본 은행들, 마이너스금리 고육책…예금계좌 유지료 부과 추진</td>\n",
              "      <td>(도쿄=연합뉴스) 김병규 특파원 = 마이너스 기준금리 정책으로 인한 수익 약화에 고...</td>\n",
              "      <td>수익/NNG;약화/NNG, 수익/NNG;악화/NNG, 수익/NNG;향상/NNG, 이...</td>\n",
              "      <td>up</td>\n",
              "      <td>연합뉴스</td>\n",
              "    </tr>\n",
              "    <tr>\n",
              "      <th>1</th>\n",
              "      <td>2017-12-31</td>\n",
              "      <td>최종구 \"코스닥, 혁신기업 대표시장\" 최흥식 \"금융사 지배구조 살려볼 것\"</td>\n",
              "      <td>- 금융당국 수장의 신년 화두- 금융위·금감원 `신뢰회복` 입모아최종구(왼쪽) 금융...</td>\n",
              "      <td>금리/NNG;인상/NNG;가계/NNG;부채/NNG;증가/NNG, 소비자/NNG;피해...</td>\n",
              "      <td>up</td>\n",
              "      <td>이데일리</td>\n",
              "    </tr>\n",
              "    <tr>\n",
              "      <th>2</th>\n",
              "      <td>2017-12-31</td>\n",
              "      <td>새해 첫달 주담대 금리 `年5%대` 눈앞</td>\n",
              "      <td>- 이달 은행 5곳 금리 4.58~4.85%- 작년 1월보다 최대 0.55%p 올라...</td>\n",
              "      <td>주택담보대출/NNG;금리/NNG;오르/VV, 경기/NNG;회복/NNG;불투명/NNG...</td>\n",
              "      <td>up</td>\n",
              "      <td>이데일리</td>\n",
              "    </tr>\n",
              "    <tr>\n",
              "      <th>3</th>\n",
              "      <td>2017-12-31</td>\n",
              "      <td>박스피 뚫은 코스피, 이젠 3000시대 여나…중소형株 주목</td>\n",
              "      <td>- 국내 증권사 12개 중 5개사 3000시대 전망- 글로벌 경기·이익성장·주주환원...</td>\n",
              "      <td>선진국/NNG;통화정책/NNG;불확실성/NNG, 통화정책/NNG;불확실성/NNG;확...</td>\n",
              "      <td>up</td>\n",
              "      <td>이데일리</td>\n",
              "    </tr>\n",
              "    <tr>\n",
              "      <th>4</th>\n",
              "      <td>2017-12-31</td>\n",
              "      <td>\"금융소외계층 지원 활성화…리스크 관리 만전\"</td>\n",
              "      <td>- 신년사김태영 은행연합회장- \"美연준 기준금리 인상…주요국 양적완화 축소 예정\"-...</td>\n",
              "      <td>금리/NNG;인상/NNG;시장/NNG;금리/NNG;상승/NNG, fed/NNG;금리...</td>\n",
              "      <td>up</td>\n",
              "      <td>이데일리</td>\n",
              "    </tr>\n",
              "    <tr>\n",
              "      <th>...</th>\n",
              "      <td>...</td>\n",
              "      <td>...</td>\n",
              "      <td>...</td>\n",
              "      <td>...</td>\n",
              "      <td>...</td>\n",
              "      <td>...</td>\n",
              "    </tr>\n",
              "    <tr>\n",
              "      <th>191018</th>\n",
              "      <td>2005-05-01</td>\n",
              "      <td>뉴욕증시, FOMC·고용지표 촉각</td>\n",
              "      <td>뉴욕=edaily 안근모특파원 뉴욕증시 투자자들이 시장의 방향을 정하지 못한채 하루...</td>\n",
              "      <td>인플레이션/NNG;압력/NNG;억제/NNG, 금리/NNG;인상/NNG;긴축/NNG,...</td>\n",
              "      <td>up</td>\n",
              "      <td>이데일리</td>\n",
              "    </tr>\n",
              "    <tr>\n",
              "      <th>191019</th>\n",
              "      <td>2005-05-01</td>\n",
              "      <td>증시 갈림길..FOMC에 쏠린 눈</td>\n",
              "      <td>edaily 공희정기자 4월은 잔인했다. 어닝 시즌 기업들이 내놓은 실적은 실망감만...</td>\n",
              "      <td>기업/NNG;수익성/NNG;악화/NNG;우려/NNG, 경제/NNG;지표/NNG;성장...</td>\n",
              "      <td>up</td>\n",
              "      <td>이데일리</td>\n",
              "    </tr>\n",
              "    <tr>\n",
              "      <th>191020</th>\n",
              "      <td>2005-05-01</td>\n",
              "      <td>펀드 수익률, 초라한 주식형..빛나는 채권형</td>\n",
              "      <td>edaily 권소현기자 지난주(4월25~29일) 940선대에서 출발한 증시가 910...</td>\n",
              "      <td>글로벌/NNG;경기/NNG;둔화/NNG;우려/NNG;강세/NNG, 경기/NNG;지표...</td>\n",
              "      <td>up</td>\n",
              "      <td>이데일리</td>\n",
              "    </tr>\n",
              "    <tr>\n",
              "      <th>191021</th>\n",
              "      <td>2005-05-01</td>\n",
              "      <td>3월 中企 연체율 2.6%..작년말보다 0.5%p상승</td>\n",
              "      <td>작년동기.전월 대비로는 0.2%p 낮아     (서울=연합뉴스) 박성제기자= 3월 ...</td>\n",
              "      <td>대출/NNG;연체율/NNG;오르/VV, 대출/NNG;연체율/NNG;높/VA, 대출심...</td>\n",
              "      <td>up</td>\n",
              "      <td>연합뉴스</td>\n",
              "    </tr>\n",
              "    <tr>\n",
              "      <th>191022</th>\n",
              "      <td>2005-05-01</td>\n",
              "      <td>은행 `팔고보자`식 단기실적주의 \"제무덤 판다\"</td>\n",
              "      <td>edaily 오상용기자 은행들이 수수료 수입에 급급한 나머지 `일단 팔고 보자`는 ...</td>\n",
              "      <td>수입/NNG;증대/NNG, 실적/NNG;높/VV, 기자/NNG, 은행/NNG, 수수...</td>\n",
              "      <td>up</td>\n",
              "      <td>이데일리</td>\n",
              "    </tr>\n",
              "  </tbody>\n",
              "</table>\n",
              "<p>191023 rows × 6 columns</p>\n",
              "</div>"
            ],
            "text/plain": [
              "              date  ... source\n",
              "0       2017-12-31  ...   연합뉴스\n",
              "1       2017-12-31  ...   이데일리\n",
              "2       2017-12-31  ...   이데일리\n",
              "3       2017-12-31  ...   이데일리\n",
              "4       2017-12-31  ...   이데일리\n",
              "...            ...  ...    ...\n",
              "191018  2005-05-01  ...   이데일리\n",
              "191019  2005-05-01  ...   이데일리\n",
              "191020  2005-05-01  ...   이데일리\n",
              "191021  2005-05-01  ...   연합뉴스\n",
              "191022  2005-05-01  ...   이데일리\n",
              "\n",
              "[191023 rows x 6 columns]"
            ]
          },
          "metadata": {
            "tags": []
          },
          "execution_count": 28
        }
      ]
    }
  ]
}