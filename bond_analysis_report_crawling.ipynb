{
  "nbformat": 4,
  "nbformat_minor": 0,
  "metadata": {
    "colab": {
      "name": "bond_analysis_report_crawling.ipynb",
      "provenance": [],
      "collapsed_sections": [],
      "toc_visible": true,
      "mount_file_id": "1Da7RopKua2HUXwV73G6lT2adyl7zbXQd",
      "authorship_tag": "ABX9TyNLr0Z7mqXwU80/Ta4uOT5y",
      "include_colab_link": true
    },
    "kernelspec": {
      "name": "python3",
      "display_name": "Python 3"
    }
  },
  "cells": [
    {
      "cell_type": "markdown",
      "metadata": {
        "id": "view-in-github",
        "colab_type": "text"
      },
      "source": [
        "<a href=\"https://colab.research.google.com/github/EUDA289/mulcam_b_4/blob/seoyeon%2Fbond_analysis_report_crawling/bond_analysis_report_crawling.ipynb\" target=\"_parent\"><img src=\"https://colab.research.google.com/assets/colab-badge.svg\" alt=\"Open In Colab\"/></a>"
      ]
    },
    {
      "cell_type": "markdown",
      "metadata": {
        "id": "sxW7GbZxzpVX",
        "colab_type": "text"
      },
      "source": [
        "drive 연결"
      ]
    },
    {
      "cell_type": "code",
      "metadata": {
        "id": "d6C_fDm9jc2f",
        "colab_type": "code",
        "colab": {
          "base_uri": "https://localhost:8080/",
          "height": 54
        },
        "outputId": "19d62724-43ff-4e7f-d98c-7277734bfbc5"
      },
      "source": [
        "from google.colab import drive\n",
        "drive.mount('/content/drive')"
      ],
      "execution_count": null,
      "outputs": [
        {
          "output_type": "stream",
          "text": [
            "Drive already mounted at /content/drive; to attempt to forcibly remount, call drive.mount(\"/content/drive\", force_remount=True).\n"
          ],
          "name": "stdout"
        }
      ]
    },
    {
      "cell_type": "markdown",
      "metadata": {
        "id": "HGNfRduUzylH",
        "colab_type": "text"
      },
      "source": [
        "# 채권 분석 리포트 크롤링"
      ]
    },
    {
      "cell_type": "code",
      "metadata": {
        "id": "2GsefYQAJzA2",
        "colab_type": "code",
        "colab": {}
      },
      "source": [
        "import requests\n",
        "from bs4 import BeautifulSoup\n",
        "\n",
        "pdf_list = []\n",
        "date_list = []\n",
        "title_list = []\n",
        "\n",
        "for i in range(23,127):\n",
        "  url = 'https://finance.naver.com/research/debenture_list.nhn?'\n",
        "  params = {\n",
        "      'page' : i\n",
        "  }\n",
        "\n",
        "  resp = requests.get(url,params=params)\n",
        "  soup = BeautifulSoup(resp.content, 'html.parser')\n",
        "\n",
        "  td_tag = soup.findAll(\"td\",{\"class\":\"file\"})\n",
        "  date_tag = soup.findAll('td', {\"style\":\"padding-left:5px\"} )\n",
        "  title_tag = soup.findAll('td', {\"style\":\"padding-left:10px\"})\n",
        "\n",
        "\n",
        "\n",
        "  for t in td_tag:\n",
        "    pdf_url=t.find('a').attrs['href']\n",
        "    pdf_list.append(pdf_url)\n",
        "\n",
        "\n",
        "\n",
        "  for date in date_tag:\n",
        "    date_list.append(date.get_text())\n",
        "\n",
        "  for title in title_tag:\n",
        "    title_list.append(title.get_text())\n"
      ],
      "execution_count": null,
      "outputs": []
    },
    {
      "cell_type": "markdown",
      "metadata": {
        "id": "u3qp9fZWz8cJ",
        "colab_type": "text"
      },
      "source": [
        "갯수 확인 및 슬라이싱(08.04.01~17.12.27까지만)"
      ]
    },
    {
      "cell_type": "code",
      "metadata": {
        "id": "atwwyv--ZCMw",
        "colab_type": "code",
        "colab": {}
      },
      "source": [
        "print(len(pdf_list))   \n",
        "print(len(date_list))\n",
        "print(len(title_list))\n",
        "\n",
        "\n",
        "print(date_list[-10:])\n",
        "print(date_list[:10])"
      ],
      "execution_count": null,
      "outputs": []
    },
    {
      "cell_type": "markdown",
      "metadata": {
        "id": "mEYK_Ej10L1D",
        "colab_type": "text"
      },
      "source": [
        "슬라이싱 된 것 확인"
      ]
    },
    {
      "cell_type": "code",
      "metadata": {
        "id": "ZWwcNtwvN5JH",
        "colab_type": "code",
        "colab": {}
      },
      "source": [
        "\n",
        "pdf_list_ = pdf_list[2:]\n",
        "date_list_ = date_list[2:]\n",
        "title_list_ = title_list[2:]\n",
        "\n",
        "print(date_list_[-10:])\n",
        "print(date_list_[:10])"
      ],
      "execution_count": null,
      "outputs": []
    },
    {
      "cell_type": "code",
      "metadata": {
        "id": "Q_MfEH3JX7xe",
        "colab_type": "code",
        "colab": {}
      },
      "source": [
        "print(len(pdf_list_))\n",
        "print(len(date_list_))\n",
        "print(len(title_list_))\n"
      ],
      "execution_count": null,
      "outputs": []
    },
    {
      "cell_type": "markdown",
      "metadata": {
        "id": "FfzRmVrZG1e7",
        "colab_type": "text"
      },
      "source": [
        "/ 가 경로오류가 생겨서 전처리해줌"
      ]
    },
    {
      "cell_type": "code",
      "metadata": {
        "id": "vC1dyMnOFkIx",
        "colab_type": "code",
        "colab": {}
      },
      "source": [
        "title_list__ = []\n",
        "for t in title_list :\n",
        "  title_list__.append(t.replace('/', ','))\n",
        "\n",
        "title_list__\n",
        "\n",
        "#해외크레딧/신흥국 국채 : 만기 짧은 미국 회사채에 ..' \n",
        "# /때문에 경로오류가생김"
      ],
      "execution_count": null,
      "outputs": []
    },
    {
      "cell_type": "markdown",
      "metadata": {
        "id": "HMTrKq8v0ZbB",
        "colab_type": "text"
      },
      "source": [
        "### pdf 파일로 저장\n",
        "path 주의해서 확인하기"
      ]
    },
    {
      "cell_type": "code",
      "metadata": {
        "id": "yLmxnotHI8Er",
        "colab_type": "code",
        "colab": {}
      },
      "source": [
        "\n",
        "for pdf,title,date in zip(pdf_list_, title_list__, date_list_ ):\n",
        "  with open('/content/drive/My Drive/bond_analysis_report/{0}_{1}.pdf'.format(date,title), \"wb\") as file:\n",
        "    response = requests.get(pdf)\n",
        "    file.write(response.content)"
      ],
      "execution_count": null,
      "outputs": []
    },
    {
      "cell_type": "markdown",
      "metadata": {
        "id": "-ca3QINy0y0U",
        "colab_type": "text"
      },
      "source": [
        "파일갯수가 리스트 갯수와 일치하는 지 확인 (겹치는 제목은 덮어쓰기 때문에 제대로 나왔는지 확인해야했음)"
      ]
    },
    {
      "cell_type": "code",
      "metadata": {
        "id": "__dVKevj2N53",
        "colab_type": "code",
        "colab": {}
      },
      "source": [
        "import os\n",
        "\n",
        "path = \"/content/drive/My Drive/bond_analysis_report\"\n",
        "file_list = os.listdir(path)\n",
        "\n",
        "print (\"file_list: {}\".format(file_list))\n",
        "\n",
        "len(file_list)"
      ],
      "execution_count": null,
      "outputs": []
    },
    {
      "cell_type": "markdown",
      "metadata": {
        "id": "GNt2MyX_1El7",
        "colab_type": "text"
      },
      "source": [
        "# pdf를 csv로 변환"
      ]
    },
    {
      "cell_type": "code",
      "metadata": {
        "id": "_vKRxhrxx0im",
        "colab_type": "code",
        "colab": {
          "base_uri": "https://localhost:8080/",
          "height": 303
        },
        "outputId": "6f9880b1-33c8-46cb-e820-f7141ae4f738"
      },
      "source": [
        "!pip install tika\n",
        "from tika import parser\n"
      ],
      "execution_count": null,
      "outputs": [
        {
          "output_type": "stream",
          "text": [
            "Collecting tika\n",
            "  Downloading https://files.pythonhosted.org/packages/96/07/244fbb9c74c0de8a3745cc9f3f496077a29f6418c7cbd90d68fd799574cb/tika-1.24.tar.gz\n",
            "Requirement already satisfied: setuptools in /usr/local/lib/python3.6/dist-packages (from tika) (49.1.0)\n",
            "Requirement already satisfied: requests in /usr/local/lib/python3.6/dist-packages (from tika) (2.23.0)\n",
            "Requirement already satisfied: urllib3!=1.25.0,!=1.25.1,<1.26,>=1.21.1 in /usr/local/lib/python3.6/dist-packages (from requests->tika) (1.24.3)\n",
            "Requirement already satisfied: chardet<4,>=3.0.2 in /usr/local/lib/python3.6/dist-packages (from requests->tika) (3.0.4)\n",
            "Requirement already satisfied: idna<3,>=2.5 in /usr/local/lib/python3.6/dist-packages (from requests->tika) (2.10)\n",
            "Requirement already satisfied: certifi>=2017.4.17 in /usr/local/lib/python3.6/dist-packages (from requests->tika) (2020.6.20)\n",
            "Building wheels for collected packages: tika\n",
            "  Building wheel for tika (setup.py) ... \u001b[?25l\u001b[?25hdone\n",
            "  Created wheel for tika: filename=tika-1.24-cp36-none-any.whl size=32885 sha256=d4493c2e673606acf1e93c61fdfc474d97957a05f6a1770e26fbc394d69dd7ee\n",
            "  Stored in directory: /root/.cache/pip/wheels/73/9c/f5/0b1b738442fc2a2862bef95b908b374f8e80215550fb2a8975\n",
            "Successfully built tika\n",
            "Installing collected packages: tika\n",
            "Successfully installed tika-1.24\n"
          ],
          "name": "stdout"
        }
      ]
    },
    {
      "cell_type": "markdown",
      "metadata": {
        "id": "11NPrSqsi8vk",
        "colab_type": "text"
      },
      "source": [
        "## 전처리 함수정의"
      ]
    },
    {
      "cell_type": "code",
      "metadata": {
        "id": "U_9ZGyXKGQVf",
        "colab_type": "code",
        "colab": {}
      },
      "source": [
        "import re \n",
        "\n",
        "def cleansing (data):\n",
        "  no_eng_num_data = re.sub('([a-zA-Z0-9])','',data)\n",
        "  no_jamo_data = re.sub('[ㄱ-ㅎㅏ-ㅣ]+','',no_eng_num_data)\n",
        "  no_special_characters_data = re.sub('[-=+,#/\\?:^$.@*\\\"※~&%ㆍ!』\\\\‘|\\(\\)\\[\\]\\<\\>`\\'…》]','',no_jamo_data)\n",
        "  no_square_data = re.sub('[■]','',no_special_characters_data)\n",
        "  cleansing_data = re.sub('[一-龥]','',no_square_data)\n",
        "\n",
        "  return cleansing_data\n",
        "\n",
        "# cleansing(data)"
      ],
      "execution_count": 43,
      "outputs": []
    },
    {
      "cell_type": "markdown",
      "metadata": {
        "id": "46rJqCtk1Jz6",
        "colab_type": "text"
      },
      "source": [
        "## pdf파일을 txt로 변환하는 함수정의"
      ]
    },
    {
      "cell_type": "code",
      "metadata": {
        "id": "Kb6FKxSx1BWy",
        "colab_type": "code",
        "colab": {}
      },
      "source": [
        "def convert_pdf_to_txt(file_name):\n",
        "  rawText = parser.from_file('{}'.format(file_name))\n",
        "  rawData = rawText['content']\n",
        "\n",
        "  if rawData is not None:\n",
        "    global rawData_ \n",
        "    rawData_ = rawData.replace('\\n','') \n",
        "    \n",
        "\n",
        "\n",
        "  return cleansing(rawData_)"
      ],
      "execution_count": 44,
      "outputs": []
    },
    {
      "cell_type": "markdown",
      "metadata": {
        "id": "IUJ-N9e01U0i",
        "colab_type": "text"
      },
      "source": [
        "# 파일이름과 내용으로 이루어진 csv 파일 생성"
      ]
    },
    {
      "cell_type": "markdown",
      "metadata": {
        "id": "kocfksIqY4Su",
        "colab_type": "text"
      },
      "source": [
        "'NoneType' object has no attribute 'replace' 오류수정  \n",
        "None 일때 예외를 줘야됨"
      ]
    },
    {
      "cell_type": "markdown",
      "metadata": {
        "id": "kDfmIDGFgHSS",
        "colab_type": "text"
      },
      "source": [
        "local variable 'rawData_' referenced before assignment 에러수정\n",
        "\n",
        "지역범위에서 전역 변수를 사용하기 위해서 global 표현을 사용한다.\n",
        "\n"
      ]
    },
    {
      "cell_type": "code",
      "metadata": {
        "id": "3F2jqRAm1Smm",
        "colab_type": "code",
        "colab": {}
      },
      "source": [
        "import csv\n",
        "from pathlib import Path\n",
        "\n",
        "folder = Path('/content/drive/My Drive/bond_analysis_report')\n",
        "csv_file = Path('/content/drive/My Drive/bond_analysis_report_list_cleansin.csv')\n",
        "\n",
        "with csv_file.open('w', encoding='utf-8') as f:\n",
        "    writer = csv.writer(f, csv.QUOTE_ALL)\n",
        "    writer.writerow(['FileName', 'Text'])\n",
        "    for pdf_file in folder.glob('*.pdf'):\n",
        "        pdf_text = convert_pdf_to_txt(pdf_file)\n",
        "        writer.writerow([pdf_file.name, pdf_text])\n"
      ],
      "execution_count": null,
      "outputs": []
    },
    {
      "cell_type": "markdown",
      "metadata": {
        "id": "hgWTsKBi6p94",
        "colab_type": "text"
      },
      "source": [
        "csv 파일을 df로 저장"
      ]
    },
    {
      "cell_type": "code",
      "metadata": {
        "id": "0uAUvNGjisbS",
        "colab_type": "code",
        "colab": {
          "base_uri": "https://localhost:8080/",
          "height": 406
        },
        "outputId": "3fca63ce-9be9-4f57-bbd1-ebdd302bc145"
      },
      "source": [
        "import pandas as pd\n",
        "\n",
        "df = pd.read_csv('/content/drive/My Drive/bond_analysis_report_list.csv')\n",
        "df"
      ],
      "execution_count": 50,
      "outputs": [
        {
          "output_type": "execute_result",
          "data": {
            "text/html": [
              "<div>\n",
              "<style scoped>\n",
              "    .dataframe tbody tr th:only-of-type {\n",
              "        vertical-align: middle;\n",
              "    }\n",
              "\n",
              "    .dataframe tbody tr th {\n",
              "        vertical-align: top;\n",
              "    }\n",
              "\n",
              "    .dataframe thead th {\n",
              "        text-align: right;\n",
              "    }\n",
              "</style>\n",
              "<table border=\"1\" class=\"dataframe\">\n",
              "  <thead>\n",
              "    <tr style=\"text-align: right;\">\n",
              "      <th></th>\n",
              "      <th>FileName</th>\n",
              "      <th>Text</th>\n",
              "    </tr>\n",
              "  </thead>\n",
              "  <tbody>\n",
              "    <tr>\n",
              "      <th>0</th>\n",
              "      <td>17.12.27_2018년 북한 리스크 대비하기.pdf</td>\n",
              "      <td>Microsoft Word - CrediVille_171227          트럼...</td>\n",
              "    </tr>\n",
              "    <tr>\n",
              "      <th>1</th>\n",
              "      <td>17.12.26_1월에는 무조건 GO.pdf</td>\n",
              "      <td>PowerPoint 프레젠테이션Fixed Income Analyst 김지만 02-3...</td>\n",
              "    </tr>\n",
              "    <tr>\n",
              "      <th>2</th>\n",
              "      <td>17.12.20_트럼프노믹스를 극복한 2017년 ᄉ...</td>\n",
              "      <td>2013년 0월 0일          2금융권 안심전환대출 수급영향 점검  Inve...</td>\n",
              "    </tr>\n",
              "    <tr>\n",
              "      <th>3</th>\n",
              "      <td>17.12.20_11월 채권시장 전망.pdf</td>\n",
              "      <td>Fixed Income    2017. 12. 20     11월 금통위 의...</td>\n",
              "    </tr>\n",
              "    <tr>\n",
              "      <th>4</th>\n",
              "      <td>17.12.18_2금융권 안심전환대출 수급영...</td>\n",
              "      <td>(Microsoft Word - \\307\\366\\264\\353\\302\\367_Cre...</td>\n",
              "    </tr>\n",
              "    <tr>\n",
              "      <th>...</th>\n",
              "      <td>...</td>\n",
              "      <td>...</td>\n",
              "    </tr>\n",
              "    <tr>\n",
              "      <th>3088</th>\n",
              "      <td>08.04.21_정부의 금리인하 요구에 한은의 부...</td>\n",
              "      <td>Microsoft Word - 920_0421_Fixed Income Weekly....</td>\n",
              "    </tr>\n",
              "    <tr>\n",
              "      <th>3089</th>\n",
              "      <td>08.04.14_FOMC 이후 원자재 가격 상승세 둔ᄒ...</td>\n",
              "      <td>Microsoft Word - Fixedincome0414.doc    4월 금통위...</td>\n",
              "    </tr>\n",
              "    <tr>\n",
              "      <th>3090</th>\n",
              "      <td>08.04.07_항상 열려는 있는 가능성.pdf</td>\n",
              "      <td>Microsoft Word - 0407.docFixed Income Weekly 2...</td>\n",
              "    </tr>\n",
              "    <tr>\n",
              "      <th>3091</th>\n",
              "      <td>08.04.07_총재의 변신은 무죄다?!.pdf</td>\n",
              "      <td>Microsoft Word - 0407.docFixed Income Weekly 2...</td>\n",
              "    </tr>\n",
              "    <tr>\n",
              "      <th>3092</th>\n",
              "      <td>08.04.01_시간차 공격.pdf</td>\n",
              "      <td>ㅎㅎㅎ2008_04  월간채권투자채 권 시 장 전 망금 융 시 장 차 트 북對應과 ...</td>\n",
              "    </tr>\n",
              "  </tbody>\n",
              "</table>\n",
              "<p>3093 rows × 2 columns</p>\n",
              "</div>"
            ],
            "text/plain": [
              "                                               FileName                                               Text\n",
              "0           17.12.27_2018년 북한 리스크 대비하기.pdf  Microsoft Word - CrediVille_171227          트럼...\n",
              "1                     17.12.26_1월에는 무조건 GO.pdf  PowerPoint 프레젠테이션Fixed Income Analyst 김지만 02-3...\n",
              "2     17.12.20_트럼프노믹스를 극복한 2017년 ᄉ...  2013년 0월 0일          2금융권 안심전환대출 수급영향 점검  Inve...\n",
              "3                  17.12.20_11월 채권시장 전망.pdf      Fixed Income    2017. 12. 20     11월 금통위 의...\n",
              "4     17.12.18_2금융권 안심전환대출 수급영...  (Microsoft Word - \\307\\366\\264\\353\\302\\367_Cre...\n",
              "...                                                 ...                                                ...\n",
              "3088  08.04.21_정부의 금리인하 요구에 한은의 부...  Microsoft Word - 920_0421_Fixed Income Weekly....\n",
              "3089  08.04.14_FOMC 이후 원자재 가격 상승세 둔ᄒ...  Microsoft Word - Fixedincome0414.doc    4월 금통위...\n",
              "3090       08.04.07_항상 열려는 있는 가능성.pdf  Microsoft Word - 0407.docFixed Income Weekly 2...\n",
              "3091            08.04.07_총재의 변신은 무죄다?!.pdf  Microsoft Word - 0407.docFixed Income Weekly 2...\n",
              "3092                        08.04.01_시간차 공격.pdf  ㅎㅎㅎ2008_04  월간채권투자채 권 시 장 전 망금 융 시 장 차 트 북對應과 ...\n",
              "\n",
              "[3093 rows x 2 columns]"
            ]
          },
          "metadata": {
            "tags": []
          },
          "execution_count": 50
        }
      ]
    },
    {
      "cell_type": "code",
      "metadata": {
        "id": "V3dnGb0HAwVT",
        "colab_type": "code",
        "colab": {
          "base_uri": "https://localhost:8080/",
          "height": 1000
        },
        "outputId": "19f79d39-3b70-47db-e65f-1312d1210c1d"
      },
      "source": [
        "Text_list = list(df['Text'])\n",
        "\n",
        "Text_list[12]"
      ],
      "execution_count": 51,
      "outputs": [
        {
          "output_type": "execute_result",
          "data": {
            "application/vnd.google.colaboratory.intrinsic+json": {
              "type": "string"
            },
            "text/plain": [
              "'Microsoft Word - 2017120609492735.docx  채권분석 2017.12.6  [채권]  정의민 02-3774-39763976 em.jung@miraeasset.com             Bond Market Trends 2018년 트렌드 점검 (1) 한-미 금리 역전 본격화 2018년 하반기, 한-미 기준금리 역전 예상 우리는 2018년 한 차례 한국은행의 기준금리 인상, 그리고 3회의 FRB 기준금리 인상을 전망. 따라서, 2018201820182018년년년년    하반기하반기하반기하반기    정도에는정도에는정도에는정도에는    한한한한----미미미미    기준금리기준금리기준금리기준금리    역전역전역전역전    가능성이가능성이가능성이가능성이    높아높아높아높아    보임보임보임보임. 문제는 단기 시장금리의 변화인데, 2005~2007년 한-미 기준금리 역전 구간에서 국고채 단기물 금리는 동일 만기 미국채 금리와의 역전을 좀처럼 허용하지 않았으며, 당시 FRB 기준금리 인상 사이클이 종료될 쯤에서야(2006년 상반기) 한-미 단기 국채금리 역전이 발생. 즉, 과거 경험에 따르면, 국고채 단기 금리가 미국채 금리를 따라 빠르게 상승할 리스크 잠재.     그러나, 미국채 대비 국고채 단기 금리 상승은 제한적일 전망  그러나그러나그러나그러나    우리는우리는우리는우리는    2018201820182018년년년년    국고채국고채국고채국고채    단기금리단기금리단기금리단기금리    상승상승상승상승    압력이압력이압력이압력이    제한적일제한적일제한적일제한적일    것으로것으로것으로것으로    판단하며판단하며판단하며판단하며, 2018, 2018, 2018, 2018년년년년    단기단기단기단기    시장금리에서도시장금리에서도시장금리에서도시장금리에서도    한한한한----미미미미    금리금리금리금리    역전역전역전역전    현상을현상을현상을현상을    예상함예상함예상함예상함. . . . 근거는 다음 두 가지.     1) Non1) Non1) Non1) Non----US US US US 선진국선진국선진국선진국    통화정책통화정책통화정책통화정책    불균형불균형불균형불균형: : : : 2005년과 달리, 현재 주요 선진국들의 경제 및 인플레 환경은 “Divergence” 구간이 이어질 듯. 즉, 2018년 미국을 제외한 선진국들의 기준금리 인상은 쉽지 않거나, 상당히 더딜 것이며, 이는 단기 시장금리 상승을 억제할 것. 그리고 한국 단기 시장금리는 경험적으로 미국보다 미국 제외 선진국과의 상관성이 더 높았음.  2222) ) ) ) 한국한국한국한국    기준금리기준금리기준금리기준금리    인상인상인상인상    강도강도강도강도    약화약화약화약화    가능성가능성가능성가능성: : : : 과거 대비 현재 한국 기준금리 인상 사이클에서 총 기준금리 인상 강도는 상대적으로 줄어들 전망. 특히, 과잉저축 환경 속 실질중립금리(NRIR)가 하락했을 가능성이 높아 보임. 민간소비와 투자가 빠르게 활성화되기 어려운 환경이기 때문에, 당장 2018년에 이러한 트렌드의 뚜렷한 반전 가능성을 예상할 근거가 부족.  외자 이탈 리스크는 제한적일 듯 한-미 기준금리 역전 및 시장금리 역전 가능성으로 인해 외자 이탈 리스크에 대한 우려가 불거질 수도 있음. 그러나, 마이너스 스왑 레이트가 심화되면서 한-미 금리차 축소 및 역전 부담을 약간 상쇄시킬 수 있음. 또한, 한국 장기채권의 높은 캐리 매력도, 양호한 수출 환경 속 원화 가치 안정성 등은 장기 외국인들의 지속적인 자금 유입 가능성을 기대하게 할 것.   2018년 주요 선진국들의 산출갭 vs. 물가갭 예상치: 선진국 경제 및 인플레 환경 온도 차 큰 편  자료: IMF WEO, 미래에셋대우 리서치센터 G7AustraliaCanadaFranceGermanyItalyJapanNew ZealandSpainUKUS-2-1.5-1-0.500.51-2 -1.5 -1 -0.5 0 0.5 1 1.5(2018E 인플레 전망치와 인플레 타겟과의 괴리, %p)(2018E Output Gap, %)아웃풋 갭 마이너스 & 인플레 목표치 하회아웃풋아웃풋아웃풋아웃풋 갭갭갭갭 플러스플러스플러스플러스 & & & & 인플레인플레인플레인플레 목표치목표치목표치목표치 상회상회상회상회아웃풋 갭 플러스 & 인플레 목표치 하회아웃풋 갭 마이너스 & 인플레 목표치 상회Bond Market Trends 2018년 트렌드 점검 (1) 한-미 금리 역전 가능성 2   Mirae Asset Daewoo Research 미래에셋대우 2018 년 한국/미국 통화정책 전망 요약 ((((1) 20181) 20181) 20181) 2018년년년년    한국한국한국한국    통화정책통화정책통화정책통화정책    전망전망전망전망: : : : 한한한한    차례차례차례차례    기준금리기준금리기준금리기준금리    인상인상인상인상    우리는 2018년 한국 기준금리는 한 차례 인상에 그칠 것으로 전망한다. 11월 금통위에서 확인된 바 있듯이, 대내외적인 불확실성이 높기 때문에 한국은행은 상당히 신중한 통화정책 스탠스를 보일 것이다. 2018년 한 차례 기준금리 인상이 예상되는 이유는 크게 세 가지로 정리할 수 있다. 1) 1) 1) 1) 성장률과성장률과성장률과성장률과    인플레인플레인플레인플레    간의간의간의간의    괴리괴리괴리괴리:::: 잠재성장률에 근접할 것으로 보이는 올해, 내년 실질 GDP 성장률과 달리, 한국 코어 인플레 2% 도달은 그리 쉽지 않을 듯하다. 주로 더딘 노동시장 회복 속도 때문일 것인데, 높은 청년실업률 속 제조업 고용 정체 및 서비스업 고용 둔화가 병행되고 있다. 2) 2) 2) 2) 민간부채민간부채민간부채민간부채    괴리괴리괴리괴리:::: 가계부채 부담이 크게 높아져서 기준금리 인상 필요성이 커진 반면, 기업부채는 이미 둔화되기 시작했다. 가파른 기준금리 인상 시 기업신용 위축 우려가 커질 수도 있다.  3)3)3)3) 부동산부동산부동산부동산    시장시장시장시장    양극화양극화양극화양극화:::: 여전히 견고한 흐름을 보이는 서울/6대 광역시 주택시장과 달리, 나머지 지역의 부동산 시장은 이미 하락세가 관찰 중이다. 가파른 기준금리 인상 시 지방 부동산 시장 충격 요인이 될 수 있다.  ((((2) 20182) 20182) 20182) 2018년년년년    미국미국미국미국    통화정책통화정책통화정책통화정책    전망전망전망전망: : : : 3333차례차례차례차례    기준금리기준금리기준금리기준금리    인상인상인상인상    한편, 2018년 FRB 기준금리 인상은 3회 정도일 것으로 예상된다. FRB의 2018년 기준금리 인상 횟수와 관련하여 가장 핵심적인 요인은 역시 코어 인플레 상승 속도일 것이다.  실업률이 자연실업률을 하회하고 있는 것으로 추정되고 있음에도 일부 구조적 요인(노동생산성 둔화, Digital Deflation 등)들로 인해 미국 코어 인플레 2% 도달은 쉽지 않을 듯하며, 이로 인해 연간 4회 기준금리 인상 가능성은 아직까지 높지 않아 보인다.   (3) (3) (3) (3) 2018201820182018년년년년, , , , 한한한한----미미미미    기준금리기준금리기준금리기준금리    역전역전역전역전    가능성가능성가능성가능성    높음높음높음높음    따라서 당사 전망에 따르면, 2018년말 한국 기준금리는 1.75%, 미국 기준금리는 2.25%(12월 FOMC에서 기준금리가 인상될 경우)에 도달할 것으로 예상된다. 이 경우, 한-미 기준금리 역전 현상은 2018년 하반기 정도부터 본격화될 가능성이 높아 보인다. 그림 1. 한-미 기준금리, 2018년 하반기부터 역전될 듯  주: 2018년 기준금리는 미래에셋대우 전망치 자료: Bloomberg, 미래에셋대우 리서치센터 0123456700 01 02 03 04 05 06 07 08 09 10 11 12 13 14 15 16 17 18USKorea(%)한-미 기준금리역전 구간2018201820182018년년년년 전망전망전망전망한-미 기준금리역전 구간Bond Market Trends 2018년 트렌드 점검 (1) 한-미 금리 역전 가능성  Mirae Asset Daewoo Research   3 한-미 기준금리 역전 영향 점검: 단기 국채금리 역전 예상 우리는 한-미 기준금리 역전과 함께 한한한한----미미미미    단기단기단기단기    국채금리국채금리국채금리국채금리    역전역전역전역전    가능성가능성가능성가능성도 높을 것으로 판단한다. 일단, 미국채 2년 금리는 FRB의 3차례 기준금리 인상 속도에 맞추어서 2% 중반 수준까지 점진적으로 상승할 가능성이 높아 보인다. 반면, 동일 만기 국고채/통안채 금리는 FRB 대비 상대적으로 완만한 한은 기준금리 인상 속도로 인해 동일 만기 미국채 대비 금리 수준이 낮아질 수 있다. 무엇보다 기준금리 대비 통안채 2년 금리 스프레드는 50bp를 넘는 수준으로, 이미 한 차례 추가 금리 인상 가능성을 반영하고 있기 때문에, 단기 시장금리 상승 압박은 크지 않을 수 있다. 그림 2. 미국채 2년 금리, 기준금리 인상에 맞추어 점진적 상승 예상  그림 3. 국고채 3년 금리, 추가 기준금리 인상 가능성 선반영    자료: Bloomberg, 미래에셋대우 리서치센터  자료: Bloomberg, 미래에셋대우 리서치센터  그런데, 과거 경험(2005~2007년 한-미 기준금리 역전 시기)은 이와는 상당히 다른 모습이다.  당시 2005년 8월부터 한-미 기준금리가 역전되기 시작했고, 2007년 9월까지 지속되었다. 그런데, 한-미 단기 국채금리 역전 현상은 거의 FRB 금리 인상 사이클 종료 전후에야 나타났다. 즉, 국고채 단기금리는 동일 만기 미국채 금리와의 역전을 별로 허용하지 않으면서 미국채 금리와 함께 꾸준히 상승했고, 일부 구간에서는 오히려 한-미 금리 스프레드가 확대되는 모습도 관찰되었다.  따라서, 2018년 한국 기준금리 인상이 한 차례라고 하더라도 FRB 금리 인상 사이클이 지속되는 과정에서    한국한국한국한국    국채국채국채국채금리금리금리금리가가가가    미국채미국채미국채미국채    금금금금리리리리를를를를    따라따라따라따라    빠르게빠르게빠르게빠르게    상승상승상승상승할할할할    위험에위험에위험에위험에    대한대한대한대한    우려가우려가우려가우려가    존재한다존재한다존재한다존재한다.... 그림 4. 2005~2007년 한-미 기준금리 역전 구간: 한-미 국채금리 흐름  그림 5. FRB 금리 인상 사이클 종료 전후 한-미 국채금리 역전 관찰    자료: Bloomberg, 미래에셋대우 리서치센터  자료: Bloomberg, 미래에셋대우 리서치센터 123456704 05 06 07미국채 2년 금리국고채 2년 금리(%)한-미 기준금리 역전 구간Bond Market Trends 2018년 트렌드 점검 (1) 한-미 금리 역전 가능성 4   Mirae Asset Daewoo Research 그러나, 우리는 과거 경험과 달리, 2018년 한-미 기준금리 역전 구간에서 한-미 국채 금리 동조성이 과거보다 약화될 가능성을 높게 보고 있다. 즉, 2018201820182018년년년년    한국한국한국한국    단기단기단기단기    국채금리국채금리국채금리국채금리    상승이상승이상승이상승이    제한되제한되제한되제한되면서면서면서면서    상당상당상당상당    기간기간기간기간    동안동안동안동안    미국채미국채미국채미국채    단기금리를단기금리를단기금리를단기금리를    하회하는하회하는하회하는하회하는    구간이구간이구간이구간이    나타날나타날나타날나타날    것으로것으로것으로것으로    예상예상예상예상한다.  근거근거근거근거    ((((1111) ) ) ) NonNonNonNon----US US US US 선진국선진국선진국선진국    통화정책통화정책통화정책통화정책    환경환경환경환경    변화변화변화변화    현재와 2005년 당시와 가장 다른 점 중 하나는 Non-US 선진국 통화정책 환경일 것이다. 2005년 Non-US 선진국들의 통화정책 환경은 독일, 일본 정도만 제외하면 미국과 크게 다르지 않았다. 실제로, 2005년 당시 주요 선진국들의 산출갭(Output Gap)과 물가갭을 살펴보면, 대부분 (+) 구간에 있는 것이 확인된다.  그림 6. 2005년 주요 선진국들의 산출갭 vs. 물가갭  그림 7. 2018년 주요 선진국들의 산출갭 vs. 물가갭 예상치    자료: IMF WEO, 미래에셋대우 리서치센터  자료: IMF WEO, 미래에셋대우 리서치센터  반면, 주요 선진국들의 2018년 예상 산출갭과 물가갭을 살펴보면, 국가별, 지역별로 상당한 수준의 불균형, 즉, “Divergence”가 관찰된다(IMF 전망치 기준). 미국 정도만이 산출갭, 물가갭 동반 (+)가 예상되고 있다. 물론, 2017년 들어 영국, 캐나다 등 일부 국가들이 기준금리 인상을 단행했지만, 산출갭, 물가갭 관점에서 주요 선진국들의 경제/인플레 환경 온도 차는 여전히 큰 편이다.  따라서, 2018년 Non-US 선진국들의 통화정책 정상화 속도는 과거보다 훨씬 더딜 것이다. 그림 8. 미국을 제외한 선진국들의 2018년 통화정책 정상화 속도는 상당히 더딜 가능성   주: 미국, 유로존, 일본은 당사 전망, 영국 기준금리는 채권시장에 반영된 금리 인상 확률이 50%를 넘는 시점 기준 자료: Bloomberg, 미래에셋대우 리서치센터 G7AustraliaCanadaFranceGermanyItalyJapanNew ZealandSpainUKUS-0.500.511.522.533.54-3 -2 -1 0 1 2 3 4 5(2005년 인플레와 인플레 타겟과의 괴리, %p)(2005년 Output Gap, %)아웃풋 갭 마이너스 & 인플레 목표치 하회아웃풋아웃풋아웃풋아웃풋 갭갭갭갭 플러스플러스플러스플러스 & & & & 인플레인플레인플레인플레 목표치목표치목표치목표치 상회상회상회상회아웃풋 갭 플러스 & 인플레 목표치 하회아웃풋 갭 마이너스 & 인플레 목표치 상회G7AustraliaCanadaFranceGermanyItalyJapanNew ZealandSpainUKUS-2-1.5-1-0.500.51-2 -1.5 -1 -0.5 0 0.5 1 1.5(2018E 인플레 전망치와 인플레 타겟과의 괴리, %p)(2018E Output Gap, %)아웃풋 갭 마이너스 & 인플레 목표치 하회아웃풋아웃풋아웃풋아웃풋 갭갭갭갭 플러스플러스플러스플러스 & & & & 인플레인플레인플레인플레 목표치목표치목표치목표치 상회상회상회상회아웃풋 갭 플러스 & 인플레 목표치 하회아웃풋 갭 마이너스 & 인플레 목표치 상회00.511.522.5314 15 16 17 18주요 선진국 기준금리 흐름미국 유로존일본 영국(%)2018 Estimates2018 Estimates2018 Estimates2018 Estimates미국미국미국미국 세세세세 차례차례차례차례금리금리금리금리 인상인상인상인상 전망전망전망전망영국영국영국영국 한한한한 차례차례차례차례금리금리금리금리 인상인상인상인상 전망전망전망전망유로존유로존유로존유로존, , , , 일본일본일본일본 2018201820182018년년년년금리금리금리금리 인상인상인상인상 어려울어려울어려울어려울 것것것것Bond Market Trends 2018년 트렌드 점검 (1) 한-미 금리 역전 가능성  Mirae Asset Daewoo Research   5 Non-US 선진국들의 더딘 통화정책 정상화 속도로 인해 Non-US 선진국들의 단기 국채금리 상승 속도 역시 빠르지 않을 듯하며, 이는 과거 대비 한국과 미국 단기 국채금리 동조성을 약화시키는 결과로 이어질 수 있다.  실제로, 2000년 이후 한국과 주요 선진국들과의 기준금리 상관계수를 살펴보면, 한국 기준금리는 미국보다 Non-US 선진국 기준금리들과의 상관성이 훨씬 높게 나타나고 있다. 이는 한국과 마찬가지로 Non-US 선진국들이 대체로 미국 대비 경기 후행성을 보이고 있기 때문일 듯하며, 국내 금리의 상승 압박이 그리 크지 않을 것으로 예상하는 주된 근거가 될 수 있을 것이다.  그림 9. 주요 선진국 기준금리와 한국과의 상관계수(2000년 이후)  그림 10. 주요 선진국 단기 국채금리와 한국과의 상관계수(2000년 이후)    자료: Bloomberg, 미래에셋대우 리서치센터  자료: Bloomberg, 미래에셋대우 리서치센터  현재 미국에 뒤이어 통화정책 정상화 속도가 그나마 빠를 것으로 예상되는 국가는 영국과 캐나다 정도일 듯한데, 현재 이들의 채권시장에 반영된 2018년 예상 기준금리 인상 횟수는 1차례 정도 수준이다.  반면, 2018년 호주 기준금리 인상 가능성은 그리 높게 예상되지 않고 있다. 그리고 유로존과 일본의 경우, 기준금리 인상까지 아직 갈 길이 먼 것으로 평가된다. 유로존은 독일 제외 국가들의 높은 실업률, 민간신용 둔화 흐름 등으로 인해 2018년 한 차례 QE 연장 가능성도 고려해야 할 것이며, 일본도 별다른 정책 변화를 예상하기 어려운 환경이다. 그림 11. 유로존, 국가별 노동시장 불균형 지속   그림 12. 일본의 실질적인 테이퍼링 흐름 지속    자료: CEIC, 미래에셋대우 리서치센터  주: 2017년 2사분기 기준 자료: BOJ, 미래에셋대우 리서치센터   -15-10-5051015202530354006 07 08 09 10 11 12 13 14 15 16 17BOJ 일본 국채 보유량 변화(분기별)(QoQ: JPY tn)05101520253004 06 08 10 12 14 16유럽 주요국 실업률 추이Spain FranceGermany Italy(%)00.10.20.30.40.50.60.70.80.91유로존 호주 캐나다 영국 미국 일본주요 선진국과 한국과의 기준금리 상관계수(상관계수)00.10.20.30.40.50.60.70.80.91프랑스독일캐나다호주이탈리아영국스페인미국일본주요 선진국과 한국과의 국채금리(2년) 상관계수(상관계수)Bond Market Trends 2018년 트렌드 점검 (1) 한-미 금리 역전 가능성 6   Mirae Asset Daewoo Research 근거근거근거근거    ((((2222) ) ) ) 기준금리기준금리기준금리기준금리    인상인상인상인상    횟수횟수횟수횟수, , , , 강도에강도에강도에강도에    대한대한대한대한    우려우려우려우려    약화약화약화약화    무엇보다 2005~2007년 당시와 현 시점과의 차별적인 사항은 이전대비 향후 기준금리 인상 횟수 및 강도가 크지 않을 것으로 예상된다는 점에 있다.  2005년 기준금리 인상기 당시 한국은행은 총 200bp(3.25%→5.25%) 기준금리 인상을 단행했으며, 2010년 기준금리 인상기에도 한국은행은 총 125bp(2%→3.25%) 기준금리 인상을 단행한 바 있다. 그러나 이번 한국은행 기준금리 인상 사이클 강도는 과거보다 훨씬 줄어들 것으로 예상된다. 그림 13. 한국 기준금리 인상 강도, 과거 대비 줄어들 가능성   자료: Bloomberg, 미래에셋대우 리서치센터  핵심적인 배경으로는 1) 잠재성장률 하락, 그리고 2) 과잉 저축(Saving Glut) 지속 등으로 인한 실질중립금리(NRIR) 하락이 꼽히고 있다. 특히, 우리는 한국 과잉 저축 현상에 보다 주목하고 있다.  경험적으로 한국은 총 저축율이 총 투자율을 대체로 상회하는 구간이 이어져왔으나, 이를 감안하더라도 한국의 과잉저축 강도는 2010년 이후 급격하게 심화된 측면이 있다.  과잉 저축 강도가 심화된 이유는 한국 민간소비 및 투자가 그 동안 부진한 모습을 보였기 때문으로 추정된다. 2016년 연간 데이터 기준 한국의 명목 GDP 대비 민간소비 비중은 49%로 데이터 집계 거의 최저 수준이며, GDP 대비 고정자본투자 비중은 2000년대 중반 대비 큰 폭 하회하고 있는 상황이다. 그림 14. 한국 과잉저축 심화 구간 지속  그림 15. 민간소비, 투자 부진 지속    주: 2017년 이후로는 IMF 전망치 이용 자료: IMF WEO, 미래에셋대우 리서치센터  자료: CEIC, 미래에셋대우 리서치센터 202530354045-15-10-505101580 85 90 95 00 05 10 15 20한국 투자 vs. 저축투자-저축 (좌)투자 (우)저축 (우)(%p) (% of GDP)과잉저축 심화2729313335373941474849505152535455565790 92 94 96 98 00 02 04 06 08 10 12 14 16GDP 대비 민간소비 (좌)GDP 대비 고정자본투자 (우)(% of GDP) (% of GDP)012345604 05 06 07 08 09 10 11 12 13 14 15 16 17한국 기준금리 흐름(%)기간: 2년 10개월8회, 총 200bp 인상기간: 11개월5회, 총 125bp 인상향후 2년 간총 5회 미만의금리 인상 전망Bond Market Trends 2018년 트렌드 점검 (1) 한-미 금리 역전 가능성  Mirae Asset Daewoo Research   7 따라서, 한국의 과잉 저축 강도가 2005년 당시 수준으로 돌아가기 위해서는 민간소비, 투자 활성화가 뒷받침될 필요가 있다. 그러나, 당장 민간소비, 투자 확대를 기대하기에는 국내 펀더멘털 여건이 만만치 않을 것으로 판단된다. 먼저, 민간소비의 경우, 고용시장의 전반적인 회복세가 가시화될 필요가 있다. 그러나, 여전히 청년 실업률 수준이 너무 높은 편이고, 고용시장에서 매우 큰 비중을 차지하는 서비스업 고용 증가율도 2005년 대비 둔화된 상황이다. 제조업 고용 증가율은 최근 전년비 플러스로 전환되었으나, 최근 제조업 부가가치 성장과 달리, 생산 물량 증가는 제한적이라는 점을 감안하면 지속 가능성은 아직 불투명해 보인다.  그림 16. 여전히 매우 높은 수준의 청년 실업률  그림 17. 서비스업, 제조업 고용 전년비 증가율: 모멘텀 좋지 못한 편    자료: Bloomberg, 미래에셋대우 리서치센터  자료: Bloomberg, 미래에셋대우 리서치센터  국내 투자활동 역시 강력한 반등을 기대하기 쉽지 않은 환경으로, 한국 제조업 가동률은 아직도 70% 초반 수준에서 벗어나지 못하고 있다.  가동률의 중요한 참고 지표라고 할 수 있는 기업이익 마진은 2017년을 기점으로 큰 폭으로 반등하고 있지만, 기업이익 마진 반등을 주도하고 있는 업종이 IT 등 일부 섹터에 국한되어 있다는 점은 한국 기업이익 마진 반등의 의미를 꽤 퇴색시키는 듯하다. 특히, 금액 기준으로 압도적인 삼성전자의 영향력이 매우 컸다는 점에서 전반적인 국내 제조업 투자 활성화 구간이 본격화될 것으로 예상할 만한 근거로는 아직 부족해 보인다. 그림 18. 가동률은 정체, 기업이익 마진은 반등  그림 19. IT를 제외한 나머지 섹터 기업이익 마진 반등은 완만     자료: MSCI, I/B/E/S, CEIC, 미래에셋대우 리서치센터  자료: MSCI, I/B/E/S. 미래에셋대우 리서치센터 66.577.588.599.51001 03 05 07 09 11 13 15 17한국 청년(15~29세) 실업률(%, 12M avg)-6-4-20246805 06 07 08 09 10 11 12 13 14 15 16 17서비스업 고용 (건설 제외) 제조업 고용(% YoY)-5051015202530에너지소재경기소비재필수소비재헬스케어 IT유틸리티산업재통신최근 10년 순이익마진 레인지최근 10년 평균현재값(%)0246810121460657075808504 05 06 07 08 09 10 11 12 13 14 15 16 17 18한국 제조업 가동률 (좌)MSCI Korea 순이익마진 (12MF, 우)(% of sales) (%)Bond Market Trends 2018년 트렌드 점검 (1) 한-미 금리 역전 가능성 8   Mirae Asset Daewoo Research 외자 이탈 리스크 발생 가능성은? 1) Non-US 지역 통화정책 불균형 및 2) 국내 과잉저축 환경이 지속되면서 기준금리 인상 강도가 과거 대비 약해질 것이라는 기대 등으로 국고채 금리 상승이 제한적으로 나타날 듯하며, 단기물 시장금리 역시 역전될 것으로 예상한다. 따라서, 2018년에는 한국 채권시장에서 외국인 자금 이탈에 대한 우려가 커질 수도 있는 시점이다. 그러나, 우리는 외국인 자금 이탈 우려가 당장 크게 확대되지 않을 것으로 판단한다. 일단, 2017년 이후 스왑레이트 마이너스 구간이 지속되면서 단기 외국인 자금이 빠르게 유입되었던 경험을 고려할 필요가 있다. 마이너스 스왑레이트는 환헤지를 하는 외국인 채권 투자자들에게 한-미 금리차 축소 및 역전 부담을 일부 상쇄해주는 효과가 있을 것이다.  그림 20. 만기별 외국인 원화채권 투자금액 비중  그림 21. 스왑레이트 마이너스 구간에서 외국인 단기채 수요 위축 제한적    자료: 연합인포맥스, 미래에셋대우 리서치센터  자료: 연합인포맥스, Bloomberg, 미래에셋대우 리서치센터  또한, 장기물 채권 외국인 투자자들의 이탈 가능성이 크지 않아 보인다. 국고채 장기물 채권은 신용등급 대비 밸류에이션 매력이 높아서 투자 매력도가 적지 않은 편이고, 한국 수출이 양호한 모습을 보이던 구간에서 원화 가치의 안정성이 나타났던 경험칙도 장기 외국인 자금 이탈을 억제하는 데 도움이 될 듯하다. 그리고 속도가 완만하지만 어쨌든 국내 펀더멘털 개선이 확인되는 구간이기 때문에, 원화 채권을 위험자산으로 인식할 수도 있는 외국인 투자자들에게 부정적인 신용 위험 발생 가능성도 현재로서는 그리 높지 않아 보인다. 그림 22. 한국 장기물 금리는 신용등급 대비 캐리 매력도 나쁘지 않음  그림 23. 수출 양호 구간에서 원화 가치 안정성 확인    자료: 미래에셋대우 리서치센터  자료: CEIC, 미래에셋대우 리서치센터 01020304050603년 이하 5년 이하 10년 이하 10년 초과만기별 외국인 국고채 투자 비중(%)-40-30-20-100102030405005 06 07 08 09 10 11 12 13 14 15 16 17REER YoY수출 YoY(% YoY)터키브라질남아공러시아인도인니베트남멕시코콜롬비아필리핀페루말레이시아폴란드태국스페인헝가리이태리칠레중국체코일본한국한국한국한국 미국영국프랑스호주캐나다독일y = -0.6003x + 10.718R² = 0.5041024681012145 6 7 8 9 10 11 12 13 14 15 16 17(YTM 10Y, %)AAAAA+AAAA-A+AA-BBB+BBBBBB-BB+BBBB-국가별 신용등급(S&P기준)-10123440455055606570758011 12 13 14 15 16 17외국인 원화채권 보유잔고 비중 (3년 이하, 좌)스왑레이트 (12M, 우)국고채 1년 - 미국채 1년 (우)(%) (%, %p)Bond Market Trends 2018년 트렌드 점검 (1) 한-미 금리 역전 가능성  Mirae Asset Daewoo Research   9  Compliance Notice - 당사는 본 자료를 제3자에게 사전 제공한 사실이 없습니다.  - 본 자료는 외부의 부당한 압력이나 간섭없이 애널리스트의 의견이 정확하게 반영되었음을 확인합니다. 본 조사분석자료는 당사의 리서치센터가 신뢰할 수 있는 자료 및 정보로부터 얻은 것이나, 당사가 그 정확성이나 완전성을 보장할 수 없으므로 투자자 자신의 판단과 책임하에 종목 선택이나 투자시기에 대한 최종 결정을 하시기 바랍니다. 따라서 본 조사분석자료는 어떠한 경우에도 고객의 증권투자 결과에 대한 법적 책임소재의 증빙자료로 사용될 수 없습니다. 본 조사분석자료의 지적재산권은 당사에 있으므로 당사의 허락 없이 무단 복제 및 배포할 수 없습니다.  '"
            ]
          },
          "metadata": {
            "tags": []
          },
          "execution_count": 51
        }
      ]
    },
    {
      "cell_type": "code",
      "metadata": {
        "id": "uUiu0zM4eHfE",
        "colab_type": "code",
        "colab": {}
      },
      "source": [
        "rawText = parser.from_file('/content/drive/My Drive/bond_analysis_report/08.04.01_시간차 공격.pdf')\n",
        "rawList = rawText['content']\n",
        "\n",
        "data =rawList.replace('\\n','')\n",
        "\n",
        "data"
      ],
      "execution_count": null,
      "outputs": []
    },
    {
      "cell_type": "code",
      "metadata": {
        "id": "wmXB8mekiSL3",
        "colab_type": "code",
        "colab": {
          "base_uri": "https://localhost:8080/",
          "height": 231
        },
        "outputId": "f00f830a-3de1-497b-b26e-d75a27cf73d0"
      },
      "source": [
        "rawText = parser.from_file('/content/drive/My Drive/bond_analysis_report/08.04.07_총재의 변신은 무죄다?!.pdf')\n",
        "rawList = rawText['content']\n",
        "\n",
        "data =rawList.replace('\\n','')\n",
        "\n",
        "data"
      ],
      "execution_count": null,
      "outputs": [
        {
          "output_type": "execute_result",
          "data": {
            "application/vnd.google.colaboratory.intrinsic+json": {
              "type": "string"
            },
            "text/plain": [
              "'Microsoft Word - 0407.docFixed Income Weekly 2008. 4. 7.  #918 Fixed Income Weekly 4월 7일돌아온 박스권 다만, 하단보다는 상단 테스트 가능성에 무게 글로벌 신용경색 완화 조짐과 주식의 반등, 인플레이션 및 금통위 부담 등에도 불구하고 금리가 잘 버티고 있다. 이는 물론, 대내외 펀더멘틀 및 궁극적인 통화정책 방향에대한 믿음이 강하기 때문일 것이다.  이러한 믿음이 견고한 상단을 만드는 반면, 추가적인 모멘텀 없이는 더 이상 하락하기쉽지않을 정도로 레벨이 낮아져 왔다는 현실이 역시 견고한 하단을 형성하고 있다. 결국 당분간 레인지 양상일 것으로 보이는데, 금통위 경계감 극대화시 trading buy 정도는 해 볼 만 하다는 생각이다.     대우증권 리서치센터 서철수 (02-768-3501)Cyberscs@bestez.com윤여삼 (02-768-4022)nersam@bestez.com미국의 금융 업종, 연준 덕택에 九死一生 연준 영역 밖인 회사채 신용위험은 추가 악화는 일단 멈춘 상태010020030040050060007.7 07.9 07.11 08.1 08.3은행업금융서비스업보험업(bp)1.52.02.53.03.54.007.1 07.3 07.5 07.7 07.9 07.11 08.1 08.30.60.81.01.21.41.6미 신용스프레드(회사채BAA-국채,좌)미 신용스프레드(회사채BAA-AAA,우)(%p)(%p)자료: Bloomberg 자료:  Bloomberg  2 ■ 최근 신용경색 완화 조짐!  So…what? 글로벌 신용경색 완화 조짐이 나타나면서 시장변수들이 움직이고 있다. 금융기관들의 CDS가 둔화되고 있고, 모기지 지수인 ABX나 회사채 신용스프레드 등도 추가 악화를 멈춘 상태이다[앞면의 그림들]. 달러가치의 급락이 멈칫해지는 가운데 상품가격의 조정양상이 진행중이며, flight to quality가 완화되면서 주가가 반등하고 있다[그림1,2]. 이러한 현상은, 4월 월보에서도 지적했듯이, 연준을 중심으로 미 정부와 의회, 그리고 민간과 국부펀드 등이 신용경색 완화를 위한 다양한 노력들을 기울인 덕택일 것이다. 특히 연준이 금리인하는 물론이고, 금융기관에 직접 유동성을 공급할 뿐 아니라 부실처리까지 떠맡는 등 매우 적극적으로 대응하고 있는데 힘입은 바 크다고 할 것이다. 더 이상 제2의 베어스턴스를 만들지 않겠다는 연준의 강력한 의지와 실질적인 지원이 금융기관들 나아가 금융시장을 안심시키고 있는 것이다. 이에, 금융업종 중심의 안도랠리는 충분히 이해할 만한 구석이 있다는 생각이다. 한편 버냉키는 의회 증언을 통해, 이제 급한 불은 껐으니 향후 통화정책은 경기와 물가라는 전통적 잣대에 기반할 것임을 시사하였다(긴급/대폭적 인하 가능성 크게 축소).  국내 주가도 오르면서 일각에서 바닥론이 대두되고 있는데, 반면 금리는 잘 오르지 않고 있다. 미국(글로벌)과 한국의 펀더멘틀 및 정책에 대한 전망이 비교적 확고하기 때문일 터이다. 즉, 이미 월보에서 강조했듯이, 최근 위험자산의 반등은 주로 연준이 주도하는 유동성 장세의 성격으로 보고 있다는 것이다. 그런데 주지하듯이, 유동성은 반드시 위험자산에만 도움이 되는 것은 아니다. 외환시장과 스왑시장의 수급 또한 개선되면서, 외인들이 다시 매수 주체로 부상하는 환경이 조성되고 있는 것이다[3면의 그림 3]. 외인들 입장에서는 재정거래는 물론이고 기술적 측면에서도 매수 시그널링을 받고 있는 상황이다[3면의 그림 4].  이러한 가운데, 채권시장의 믿음을 확인시켜주는 국내외 경제지표들이 나오고 있다. 국내 2월 산업활동동향이 경기둔화 진입 조짐을 보여주기 시작했고[4면의 그림5], 미국의 3월 고용지표는 시장 예상(취업자수 -5만명) 보다 더 나빠진 결과를 드러냈다(-8만명). 보다 중요한 것은, 이제 시작일 뿐이라는 점이다. 한국의 경기지수들은 앞으로 최소 2분기에서 어쩌면 4분기 내내 하락세를 이어갈 것으로 예상되며, 이제 겨우 5%대로 올라선 미국의 실업률도 향후 몇 분기에   그림 1. 우량 모기지 반등하면서 주식도 동반 반등  그림 2. 미 금리 하향세, 그러나 정작 모기지 금리는 하락 못해   자료: Markit, Bloomberg  자료:  Bloomberg 신용경색 극심화로 인한 시스템 붕괴는 면한 듯 파국을 막기 위한 연준의 적극적 대응 덕택으로 평가 그러나 펀더멘틀과 통화정책 방향성에 있어 달라지는 것은 별로 없다  특히 펀더멘틀은 이제 막 시작이라는 사실이 포인트 3.03.54.04.55.05.56.06.57.007.1 07.7 08.1미 모기지고정30년미 모기지변동1년미국채 10년(%)506070809010007.7 07.9 07.11 08.1 08.312501350145015501650ABX-HE-AAA 07-1(좌)ABX-HE-AAA 07-2(좌)S&P 500지수(우)(%)(p)Fixed Income Weekly 3 걸쳐 적어도 6%선까지는 올라설 것이다[4면의 그림6]. 거듭 강조해 왔듯이, 연준이 금융시스템의 붕괴는 막고 있지만 이미 시작된 순환적인 경기침체는 앞으로 상당기간 지속될 것이며, 이는 결국 한국 경제와 통화정책에도 영향을 줄 것이다.  ■ 한은의 관심은… 한은이 직면한 최대 관심사는 물론 물가, 특히 기대심리의 확산 여부인 것으로 보인다. 더불어, 내부적으로 고심하고 있는 것이 만일 있다면 통화정책의 독립성이 일부 훼손될지의 문제일 것 같다. 그런데 이 두 가지 모두 공히 이번 금통위에서 총재의 매파적 성향을 자극하는 요인들이다. 하지만 그렇다고 해서 일방적으로 인플레만 강조하지는 않을 것으로 본다. 그것은 자칫 긴축 시그널로 오해될 소지가 있을 뿐 아니라, 향후 있을 수도 있는 정책변경 여지를 스스로 차단하는 구속이 될 수 있기 때문이다.  결국 총재는 경기 불확실성과 인플레 부담 사이에서의 균형을 찾으려 할 것으로 여겨지는데, 다만 단기적으로는 인플레 우려가 조금 더 신경쓰인다는 입장일 것으로 예상된다. 그러나 그렇다 하여 시장이 인하 기대감 자체를 포기할 가능성은 거의 없을 것이다. ‘현존하는 인플레 부담 vs. 이제 막 조짐이 보이는 경기하강 리스크’의 구도에서는 ‘동결’이 선택되지만, 향후 전개될 ‘완만하나마 둔화되기 시작하는 인플레 vs. 현재화하는 경기하강’ 구도 아래에서는 동결의 명분이 약화될 것이기 때문이다. 여기에, 정부가 총선 이후 전반적인 경기부양책을 동원할 경우 한은도 일정부분 부응해야 한다는 명분을 요구받을 수도 있는 일이다.   ■ 당장의 투자 스탠스는? 대부분의 제안처럼, 우리 스탠스 역시 반등시 매수이다. 금리가 추세적으로 오를 상황은 아니지만, 안전자산 선호현상이 완화되는 가운데 주식시장의 베어마켓 랠리가 신경 쓰이는 측면이 있고(특히 자금이동 관련), 금통위 경계감도 부담이기 때문이다. 반등 레벨이 관심일 수는 있을 텐데, 20일 이평선 부근인 5.20%가 1차 지지선이겠으나, 리면 전 고점이자 볼뱅의 상단부인 5.30%내외가 제법 강한 지지선일 것으로 생각한다.  그림 3. 글로벌 신용경색 완화가 한국에도 긍정적인 측면   그림 4. 국채선물시장, 외인들 매수 시그널링    자료: Bloomberg  자료: 증권선물거래소 실물경제에 대한 대응에 있어 선제적인 연준 vs. 확인 후 움직이려는 한은 지금 당장 명백히 확인되는 것은 인플레라는 게 한은의 입장 반등시 매수관점 -2.0-1.5-1.0-0.50.00.51.01.52.007.7 07.9 07.11 08.1 08.30123456789선물종가 - 외인 매수단가 20일 이동 평균(좌)외인 누적순매수(우)(pt) (만계약)2.52.83.13.43.74.04.34.64.95.207.07 07.08 07.09 07.10 07.11 07.12 08.01 08.02120160200240280320CRS3년(좌)EMBI+ 스프레드(축반전,우)(bp)(%) 4 한편, 최근 반등세가 지속되고 있는 신용 스프레드에 대해서는 조금 더 두고 보자는 입장이다. 사실 이미 우리는 지난 2월 18일자 주보에서 다음과 같이 크레딧 투자에 대해 신중한 입장을 주장한 바 있다. 일부를 그대로 인용해 보면, “국내 경기 둔화 위험이 있는 가운데 은행들의 자산 건전성 관리 의지도 높아지고 있는 등 전반적인 회사채 투자 환경이 그리 양호한 상황은 아니라고 판단하기 때문이다. 여기에, 산업은행 민영화나 CP발행정보 공개, 연결재무제표 주 지표화, 은행채 신고서 제출의 여파 등과 같은 제도적 측면도 회사채 스프레드 우호적 환경은 아닐 수 있다고 보고 있다”.  그런데, 회사채 스프레드는 우리의 전망과 달리 조금은 더 떨어지다가 이후부터 반등하고 있으나, 은행채 스프레드는 2월 19일 전후를 바닥으로 올라오고 있는 상황이다. 은행권이 작년 4분기와 같은 자금부족을 겪을 가능성은 희박하다고 보지만, 2분기 중 대규모 만기가 도래하는 가운데 은행권 자금 유입이 다소 둔화된 상태이고 주식으로의 자금이동 재개 관련 우려가 대두될 소지가 있다는 점에 주의하기로 한다. 또한 당장 (은행채에 대한) 매수주체가 뚜렷히 부각되지 못할 수 있다는 현실과, 차후 은행채 신고서 제출과 같은 제도적 변수들이 기다리고 있다는 점도 부담일 수 있을 것 같다. 이러한 요인들은 은행 펀더멘틀 측면 보다는 수급적 성향이 강하니 만큼 결국에는 기회가 될 수 있다고 보지만, 현 시점에서 굳이 서두를 필요는 없을 것 같다는 생각이다.  그림 5. 이번에도 경기선행지수와 금리는 연동하고 있다  그림 6. 미 경기침체, 끝나려면 한참 남았다    자료: Bloomberg  자료: Bloomberg                 본 자료는 2008년 4월 5일 당사 홈페이지에 게시된 자료입니다. 이 조사자료는 고객의 투자에 참고가 될 수 있는 각종 정보제공을 목적으로 제작되었습니다. 이 조사자료는 당사의 리서치센터가 신뢰할 수 있는 자료 및 정보로부터 얻어진 것이나, 당사가 그 정확성이나 완전성을 보장할 수 없으므로 투자자 자신의 판단과 책임하에 종목 선택이나 투자시기에 대한 최종 결정을 하시기 바랍니다. 따라서 이 조사자료는 어떠한 경우에도 고객의 증권투자 결과에 대한 법적 책임소재의 증빙자료로 사용될 수 없습니다. 이 조사자료의 지적재산권은 당사에 있으므로 당사의 허락없이 무단 복제 및 배포 할 수 없습니다.  은행채 스프레드 메리트 커지고는 있으나 서두를 필요는 없다는 판단 당장은 공급확대와 수요둔화, 5~6월에는 제도 변화 등이 부담이기 때문 0246810121400 01 02 03 04 05 06 07 08345678910경기선행지수 전년동월비(좌)국고채3년(우)(%, 2005=100) (%)3000500070009000110001300070 73 76 79 82 85 88 91 94 97 00 03 06 0934567891011실업자(좌)실업률(우)(천명) (%)'"
            ]
          },
          "metadata": {
            "tags": []
          },
          "execution_count": 30
        }
      ]
    }
  ]
}