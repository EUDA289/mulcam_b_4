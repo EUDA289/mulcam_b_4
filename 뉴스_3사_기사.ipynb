{
  "nbformat": 4,
  "nbformat_minor": 0,
  "metadata": {
    "colab": {
      "name": "뉴스 3사 기사",
      "provenance": [],
      "mount_file_id": "17Yk7L1_FtodZ5p6JaG7kZQrv_E9QcUT3",
      "authorship_tag": "ABX9TyPl9HGbECgUhhVKEaymQBZP",
      "include_colab_link": true
    },
    "kernelspec": {
      "name": "python3",
      "display_name": "Python 3"
    }
  },
  "cells": [
    {
      "cell_type": "markdown",
      "metadata": {
        "id": "view-in-github",
        "colab_type": "text"
      },
      "source": [
        "<a href=\"https://colab.research.google.com/github/EUDA289/mulcam_b_4/blob/jeje/%EB%89%B4%EC%8A%A4_3%EC%82%AC_%EA%B8%B0%EC%82%AC.ipynb\" target=\"_parent\"><img src=\"https://colab.research.google.com/assets/colab-badge.svg\" alt=\"Open In Colab\"/></a>"
      ]
    },
    {
      "cell_type": "code",
      "metadata": {
        "id": "EitjBsgTx9SM",
        "colab_type": "code",
        "colab": {}
      },
      "source": [
        "import pandas as pd\n",
        "preprocessed_articles = pd.read_csv('/content/drive/My Drive/Projects/preprocessed_articles.csv')\n",
        "del preprocessed_articles['Unnamed: 0']"
      ],
      "execution_count": 3,
      "outputs": []
    },
    {
      "cell_type": "code",
      "metadata": {
        "id": "0YFFh8ua0fi4",
        "colab_type": "code",
        "colab": {
          "base_uri": "https://localhost:8080/",
          "height": 402
        },
        "outputId": "cc0a7483-a42e-463c-9112-6f8444851260"
      },
      "source": [
        "preprocessed_articles"
      ],
      "execution_count": 4,
      "outputs": [
        {
          "output_type": "execute_result",
          "data": {
            "text/html": [
              "<div>\n",
              "<style scoped>\n",
              "    .dataframe tbody tr th:only-of-type {\n",
              "        vertical-align: middle;\n",
              "    }\n",
              "\n",
              "    .dataframe tbody tr th {\n",
              "        vertical-align: top;\n",
              "    }\n",
              "\n",
              "    .dataframe thead th {\n",
              "        text-align: right;\n",
              "    }\n",
              "</style>\n",
              "<table border=\"1\" class=\"dataframe\">\n",
              "  <thead>\n",
              "    <tr style=\"text-align: right;\">\n",
              "      <th></th>\n",
              "      <th>date</th>\n",
              "      <th>source</th>\n",
              "      <th>title</th>\n",
              "      <th>content</th>\n",
              "    </tr>\n",
              "  </thead>\n",
              "  <tbody>\n",
              "    <tr>\n",
              "      <th>0</th>\n",
              "      <td>2005.05.09. 오후 4:42</td>\n",
              "      <td>연합뉴스</td>\n",
              "      <td>&lt;채권&gt; 금리 소폭 상승</td>\n",
              "      <td>(서울=연합뉴스) 최윤정기자 = 채권금리가 소폭 상승했다.     9일 채권시장에서...</td>\n",
              "    </tr>\n",
              "    <tr>\n",
              "      <th>1</th>\n",
              "      <td>2005.05.06. 오전 10:24</td>\n",
              "      <td>연합뉴스</td>\n",
              "      <td>&lt;코스닥 시황&gt; 이틀째 상승(10:00)</td>\n",
              "      <td>(서울=연합뉴스) 김세진기자= 코스닥시장이 여러 대외 악재들에 대한  우려감이 다소...</td>\n",
              "    </tr>\n",
              "    <tr>\n",
              "      <th>2</th>\n",
              "      <td>2005.05.05. 오전 5:19</td>\n",
              "      <td>연합뉴스</td>\n",
              "      <td>&lt;뉴욕증시&gt; GM 호재에 동반 상승</td>\n",
              "      <td>\"(뉴욕=연합뉴스) 이래운 특파원 = 한 억만장자가 위기에 몰린 제너럴모터스(GM)...</td>\n",
              "    </tr>\n",
              "    <tr>\n",
              "      <th>3</th>\n",
              "      <td>2005.05.10. 오후 4:22</td>\n",
              "      <td>이데일리</td>\n",
              "      <td>\"美성장률 둔화, 큰 우려 아니다\"-KIEP</td>\n",
              "      <td>edaily 이정훈기자 미국의 최근 성장률 둔화는 크게 우려할 사안이 아니며 이로 ...</td>\n",
              "    </tr>\n",
              "    <tr>\n",
              "      <th>4</th>\n",
              "      <td>2005.05.02. 오전 10:44</td>\n",
              "      <td>이데일리</td>\n",
              "      <td>美 증시 낙관론 6년래 최저-배런스</td>\n",
              "      <td>edaily 김현동기자 미국 머니매니저의 38%만이 올해 미국 주식시장에 대해 낙관...</td>\n",
              "    </tr>\n",
              "    <tr>\n",
              "      <th>...</th>\n",
              "      <td>...</td>\n",
              "      <td>...</td>\n",
              "      <td>...</td>\n",
              "      <td>...</td>\n",
              "    </tr>\n",
              "    <tr>\n",
              "      <th>193112</th>\n",
              "      <td>2017.01.24. 오전 9:53</td>\n",
              "      <td>이데일리</td>\n",
              "      <td>태영건설, 회사채 2년물 500억원 수요예측 성공</td>\n",
              "      <td>이데일리 김인경 기자 태영건설(009410)이 이달 말 발행하는 회사채에 대한 수요...</td>\n",
              "    </tr>\n",
              "    <tr>\n",
              "      <th>193113</th>\n",
              "      <td>2017.01.17. 오전 6:01</td>\n",
              "      <td>이데일리</td>\n",
              "      <td>[서민금융] 사잇돌대출, 상호금융권으로 확대.. 소진시 1조원 추가</td>\n",
              "      <td>이데일리 노희준 기자 앞으로 정책성 10%대 중금리 신용대출인 ‘사잇돌대출’을 은행...</td>\n",
              "    </tr>\n",
              "    <tr>\n",
              "      <th>193114</th>\n",
              "      <td>2017.01.16. 오후 6:06</td>\n",
              "      <td>이데일리</td>\n",
              "      <td>정부, 화재피해 입은 여수 수산시장에 10억원 긴급 지원</td>\n",
              "      <td>- 피해상인에 7000만원 한도 긴급경영자금 지원설대목 앞두고 화마 덮친 여수 수산...</td>\n",
              "    </tr>\n",
              "    <tr>\n",
              "      <th>193115</th>\n",
              "      <td>2017.01.19. 오후 5:49</td>\n",
              "      <td>이데일리</td>\n",
              "      <td>동천파크자이, 판교 창조경제 밸리 수혜단지 주목</td>\n",
              "      <td>GS건설이 용인 수지구 동천동 일대에 분양 중인 ‘동천파크자이’는 판교 창조경제밸리...</td>\n",
              "    </tr>\n",
              "    <tr>\n",
              "      <th>193116</th>\n",
              "      <td>2017.01.17. 오후 3:29</td>\n",
              "      <td>이데일리</td>\n",
              "      <td>심광일 주택건설협회 회장 “집단대출 규제 완화하고 DSR 유보해야\"</td>\n",
              "      <td>이데일리 정다슬 기자 심광일(사진) 주택건설협회 회장이 식어가는 주택경기에 온기를 ...</td>\n",
              "    </tr>\n",
              "  </tbody>\n",
              "</table>\n",
              "<p>193117 rows × 4 columns</p>\n",
              "</div>"
            ],
            "text/plain": [
              "                        date  ...                                            content\n",
              "0        2005.05.09. 오후 4:42  ...  (서울=연합뉴스) 최윤정기자 = 채권금리가 소폭 상승했다.     9일 채권시장에서...\n",
              "1       2005.05.06. 오전 10:24  ...  (서울=연합뉴스) 김세진기자= 코스닥시장이 여러 대외 악재들에 대한  우려감이 다소...\n",
              "2        2005.05.05. 오전 5:19  ...  \"(뉴욕=연합뉴스) 이래운 특파원 = 한 억만장자가 위기에 몰린 제너럴모터스(GM)...\n",
              "3        2005.05.10. 오후 4:22  ...  edaily 이정훈기자 미국의 최근 성장률 둔화는 크게 우려할 사안이 아니며 이로 ...\n",
              "4       2005.05.02. 오전 10:44  ...  edaily 김현동기자 미국 머니매니저의 38%만이 올해 미국 주식시장에 대해 낙관...\n",
              "...                      ...  ...                                                ...\n",
              "193112   2017.01.24. 오전 9:53  ...  이데일리 김인경 기자 태영건설(009410)이 이달 말 발행하는 회사채에 대한 수요...\n",
              "193113   2017.01.17. 오전 6:01  ...  이데일리 노희준 기자 앞으로 정책성 10%대 중금리 신용대출인 ‘사잇돌대출’을 은행...\n",
              "193114   2017.01.16. 오후 6:06  ...  - 피해상인에 7000만원 한도 긴급경영자금 지원설대목 앞두고 화마 덮친 여수 수산...\n",
              "193115   2017.01.19. 오후 5:49  ...  GS건설이 용인 수지구 동천동 일대에 분양 중인 ‘동천파크자이’는 판교 창조경제밸리...\n",
              "193116   2017.01.17. 오후 3:29  ...  이데일리 정다슬 기자 심광일(사진) 주택건설협회 회장이 식어가는 주택경기에 온기를 ...\n",
              "\n",
              "[193117 rows x 4 columns]"
            ]
          },
          "metadata": {
            "tags": []
          },
          "execution_count": 4
        }
      ]
    },
    {
      "cell_type": "code",
      "metadata": {
        "id": "9htgsJW40vOz",
        "colab_type": "code",
        "colab": {
          "base_uri": "https://localhost:8080/",
          "height": 402
        },
        "outputId": "4a620ce3-ece3-4c62-c837-02ae170ef20a"
      },
      "source": [
        "df_articles = preprocessed_articles.copy()\n",
        "df_articles"
      ],
      "execution_count": 5,
      "outputs": [
        {
          "output_type": "execute_result",
          "data": {
            "text/html": [
              "<div>\n",
              "<style scoped>\n",
              "    .dataframe tbody tr th:only-of-type {\n",
              "        vertical-align: middle;\n",
              "    }\n",
              "\n",
              "    .dataframe tbody tr th {\n",
              "        vertical-align: top;\n",
              "    }\n",
              "\n",
              "    .dataframe thead th {\n",
              "        text-align: right;\n",
              "    }\n",
              "</style>\n",
              "<table border=\"1\" class=\"dataframe\">\n",
              "  <thead>\n",
              "    <tr style=\"text-align: right;\">\n",
              "      <th></th>\n",
              "      <th>date</th>\n",
              "      <th>source</th>\n",
              "      <th>title</th>\n",
              "      <th>content</th>\n",
              "    </tr>\n",
              "  </thead>\n",
              "  <tbody>\n",
              "    <tr>\n",
              "      <th>0</th>\n",
              "      <td>2005.05.09. 오후 4:42</td>\n",
              "      <td>연합뉴스</td>\n",
              "      <td>&lt;채권&gt; 금리 소폭 상승</td>\n",
              "      <td>(서울=연합뉴스) 최윤정기자 = 채권금리가 소폭 상승했다.     9일 채권시장에서...</td>\n",
              "    </tr>\n",
              "    <tr>\n",
              "      <th>1</th>\n",
              "      <td>2005.05.06. 오전 10:24</td>\n",
              "      <td>연합뉴스</td>\n",
              "      <td>&lt;코스닥 시황&gt; 이틀째 상승(10:00)</td>\n",
              "      <td>(서울=연합뉴스) 김세진기자= 코스닥시장이 여러 대외 악재들에 대한  우려감이 다소...</td>\n",
              "    </tr>\n",
              "    <tr>\n",
              "      <th>2</th>\n",
              "      <td>2005.05.05. 오전 5:19</td>\n",
              "      <td>연합뉴스</td>\n",
              "      <td>&lt;뉴욕증시&gt; GM 호재에 동반 상승</td>\n",
              "      <td>\"(뉴욕=연합뉴스) 이래운 특파원 = 한 억만장자가 위기에 몰린 제너럴모터스(GM)...</td>\n",
              "    </tr>\n",
              "    <tr>\n",
              "      <th>3</th>\n",
              "      <td>2005.05.10. 오후 4:22</td>\n",
              "      <td>이데일리</td>\n",
              "      <td>\"美성장률 둔화, 큰 우려 아니다\"-KIEP</td>\n",
              "      <td>edaily 이정훈기자 미국의 최근 성장률 둔화는 크게 우려할 사안이 아니며 이로 ...</td>\n",
              "    </tr>\n",
              "    <tr>\n",
              "      <th>4</th>\n",
              "      <td>2005.05.02. 오전 10:44</td>\n",
              "      <td>이데일리</td>\n",
              "      <td>美 증시 낙관론 6년래 최저-배런스</td>\n",
              "      <td>edaily 김현동기자 미국 머니매니저의 38%만이 올해 미국 주식시장에 대해 낙관...</td>\n",
              "    </tr>\n",
              "    <tr>\n",
              "      <th>...</th>\n",
              "      <td>...</td>\n",
              "      <td>...</td>\n",
              "      <td>...</td>\n",
              "      <td>...</td>\n",
              "    </tr>\n",
              "    <tr>\n",
              "      <th>193112</th>\n",
              "      <td>2017.01.24. 오전 9:53</td>\n",
              "      <td>이데일리</td>\n",
              "      <td>태영건설, 회사채 2년물 500억원 수요예측 성공</td>\n",
              "      <td>이데일리 김인경 기자 태영건설(009410)이 이달 말 발행하는 회사채에 대한 수요...</td>\n",
              "    </tr>\n",
              "    <tr>\n",
              "      <th>193113</th>\n",
              "      <td>2017.01.17. 오전 6:01</td>\n",
              "      <td>이데일리</td>\n",
              "      <td>[서민금융] 사잇돌대출, 상호금융권으로 확대.. 소진시 1조원 추가</td>\n",
              "      <td>이데일리 노희준 기자 앞으로 정책성 10%대 중금리 신용대출인 ‘사잇돌대출’을 은행...</td>\n",
              "    </tr>\n",
              "    <tr>\n",
              "      <th>193114</th>\n",
              "      <td>2017.01.16. 오후 6:06</td>\n",
              "      <td>이데일리</td>\n",
              "      <td>정부, 화재피해 입은 여수 수산시장에 10억원 긴급 지원</td>\n",
              "      <td>- 피해상인에 7000만원 한도 긴급경영자금 지원설대목 앞두고 화마 덮친 여수 수산...</td>\n",
              "    </tr>\n",
              "    <tr>\n",
              "      <th>193115</th>\n",
              "      <td>2017.01.19. 오후 5:49</td>\n",
              "      <td>이데일리</td>\n",
              "      <td>동천파크자이, 판교 창조경제 밸리 수혜단지 주목</td>\n",
              "      <td>GS건설이 용인 수지구 동천동 일대에 분양 중인 ‘동천파크자이’는 판교 창조경제밸리...</td>\n",
              "    </tr>\n",
              "    <tr>\n",
              "      <th>193116</th>\n",
              "      <td>2017.01.17. 오후 3:29</td>\n",
              "      <td>이데일리</td>\n",
              "      <td>심광일 주택건설협회 회장 “집단대출 규제 완화하고 DSR 유보해야\"</td>\n",
              "      <td>이데일리 정다슬 기자 심광일(사진) 주택건설협회 회장이 식어가는 주택경기에 온기를 ...</td>\n",
              "    </tr>\n",
              "  </tbody>\n",
              "</table>\n",
              "<p>193117 rows × 4 columns</p>\n",
              "</div>"
            ],
            "text/plain": [
              "                        date  ...                                            content\n",
              "0        2005.05.09. 오후 4:42  ...  (서울=연합뉴스) 최윤정기자 = 채권금리가 소폭 상승했다.     9일 채권시장에서...\n",
              "1       2005.05.06. 오전 10:24  ...  (서울=연합뉴스) 김세진기자= 코스닥시장이 여러 대외 악재들에 대한  우려감이 다소...\n",
              "2        2005.05.05. 오전 5:19  ...  \"(뉴욕=연합뉴스) 이래운 특파원 = 한 억만장자가 위기에 몰린 제너럴모터스(GM)...\n",
              "3        2005.05.10. 오후 4:22  ...  edaily 이정훈기자 미국의 최근 성장률 둔화는 크게 우려할 사안이 아니며 이로 ...\n",
              "4       2005.05.02. 오전 10:44  ...  edaily 김현동기자 미국 머니매니저의 38%만이 올해 미국 주식시장에 대해 낙관...\n",
              "...                      ...  ...                                                ...\n",
              "193112   2017.01.24. 오전 9:53  ...  이데일리 김인경 기자 태영건설(009410)이 이달 말 발행하는 회사채에 대한 수요...\n",
              "193113   2017.01.17. 오전 6:01  ...  이데일리 노희준 기자 앞으로 정책성 10%대 중금리 신용대출인 ‘사잇돌대출’을 은행...\n",
              "193114   2017.01.16. 오후 6:06  ...  - 피해상인에 7000만원 한도 긴급경영자금 지원설대목 앞두고 화마 덮친 여수 수산...\n",
              "193115   2017.01.19. 오후 5:49  ...  GS건설이 용인 수지구 동천동 일대에 분양 중인 ‘동천파크자이’는 판교 창조경제밸리...\n",
              "193116   2017.01.17. 오후 3:29  ...  이데일리 정다슬 기자 심광일(사진) 주택건설협회 회장이 식어가는 주택경기에 온기를 ...\n",
              "\n",
              "[193117 rows x 4 columns]"
            ]
          },
          "metadata": {
            "tags": []
          },
          "execution_count": 5
        }
      ]
    },
    {
      "cell_type": "code",
      "metadata": {
        "id": "_NHw-RvZ1TzX",
        "colab_type": "code",
        "colab": {
          "base_uri": "https://localhost:8080/",
          "height": 123
        },
        "outputId": "e0ca7a2a-1380-4fa8-bdcf-f048ecbb7069"
      },
      "source": [
        "df_articles['content'][11199]"
      ],
      "execution_count": 6,
      "outputs": [
        {
          "output_type": "execute_result",
          "data": {
            "application/vnd.google.colaboratory.intrinsic+json": {
              "type": "string"
            },
            "text/plain": [
              "'(서울=연합뉴스) 채새롬 기자 = 농업경영인단체인 한국농업경영인중앙연합회는 16일 서울 여의도 국회 앞에서 기자회견을 열고 국회가 한중 FTA에 따른 농업 피해대책을 마련하고 선거구 획정에서 농어촌 지역구를 보전해야 한다고 주장했다.     이들은 \"중국 베트남 뉴질랜드와 FTA 비준을 앞두고 정부 차원에서 구체적인 농업 피해 대책이 없다\"며 \"내년도 농림업 분야의 예산 증가율은 0.5％로 전체 예산증가율 3％에 크게 못미치는 등 농업분야가 홀대받고 있다\"고 지적했다.     구체적으로는 ▲ 농업정책자금 금리 1％로 인하 ▲ 피해보전직불제 발동기준 및 보전비율 개선 ▲농업인력육성대책 개선 등을 요구했다.     이들은 \"내년 총선 선거구 획정으로 농어촌 지역구 국회의원마저 대폭 줄어들 가능성이 높아지고 있다\"며 \"지역의 현실과 특수성 면적을 감안해 선거구를 획정해달라\"고 주장했다. \"    이들은 23일 여의도 국민은행 앞에서 한중 FTA 대책수립 촉구 및 농어촌지역 지키기 농업인 총궐기대회를 열기로 하고 회원 20명이 이날부터 23일까지 국회에 문제해결을 촉구하는 천막농성을 한다고 밝혔다.\"     srchae@yna.co.kr <저작권자(c) 연합뉴스 무단 전재-재배포 금지> \\\\t'"
            ]
          },
          "metadata": {
            "tags": []
          },
          "execution_count": 6
        }
      ]
    },
    {
      "cell_type": "code",
      "metadata": {
        "id": "uG8aeBBQ51wz",
        "colab_type": "code",
        "colab": {
          "base_uri": "https://localhost:8080/",
          "height": 123
        },
        "outputId": "47535fa5-fbd3-49c4-a554-ff4886ce2d40"
      },
      "source": [
        "import re\n",
        "df_articles['content'][11199] = re.sub('(\\\\\\\\t)', '', df_articles['content'][11199])\n",
        "df_articles['content'][11199]"
      ],
      "execution_count": 8,
      "outputs": [
        {
          "output_type": "execute_result",
          "data": {
            "application/vnd.google.colaboratory.intrinsic+json": {
              "type": "string"
            },
            "text/plain": [
              "'(서울=연합뉴스) 채새롬 기자 = 농업경영인단체인 한국농업경영인중앙연합회는 16일 서울 여의도 국회 앞에서 기자회견을 열고 국회가 한중 FTA에 따른 농업 피해대책을 마련하고 선거구 획정에서 농어촌 지역구를 보전해야 한다고 주장했다.     이들은 \"중국 베트남 뉴질랜드와 FTA 비준을 앞두고 정부 차원에서 구체적인 농업 피해 대책이 없다\"며 \"내년도 농림업 분야의 예산 증가율은 0.5％로 전체 예산증가율 3％에 크게 못미치는 등 농업분야가 홀대받고 있다\"고 지적했다.     구체적으로는 ▲ 농업정책자금 금리 1％로 인하 ▲ 피해보전직불제 발동기준 및 보전비율 개선 ▲농업인력육성대책 개선 등을 요구했다.     이들은 \"내년 총선 선거구 획정으로 농어촌 지역구 국회의원마저 대폭 줄어들 가능성이 높아지고 있다\"며 \"지역의 현실과 특수성 면적을 감안해 선거구를 획정해달라\"고 주장했다. \"    이들은 23일 여의도 국민은행 앞에서 한중 FTA 대책수립 촉구 및 농어촌지역 지키기 농업인 총궐기대회를 열기로 하고 회원 20명이 이날부터 23일까지 국회에 문제해결을 촉구하는 천막농성을 한다고 밝혔다.\"     srchae@yna.co.kr <저작권자(c) 연합뉴스 무단 전재-재배포 금지> '"
            ]
          },
          "metadata": {
            "tags": []
          },
          "execution_count": 8
        }
      ]
    },
    {
      "cell_type": "code",
      "metadata": {
        "id": "881XnDYF6TID",
        "colab_type": "code",
        "colab": {
          "base_uri": "https://localhost:8080/",
          "height": 53
        },
        "outputId": "a4d48662-d222-401e-d247-1cfa06a4110a"
      },
      "source": [
        "df_articles['content'][12345]"
      ],
      "execution_count": 9,
      "outputs": [
        {
          "output_type": "execute_result",
          "data": {
            "application/vnd.google.colaboratory.intrinsic+json": {
              "type": "string"
            },
            "text/plain": [
              "'\\\\t\\\\t\\\\t\\\\t-미 금리인상 속도 빠르지 않고 경제여건 상 다른 신흥국과 차별화 될 것. 다만 중국 경기불안으로 신흥시장국의 영향력 확산할 가능성.  -13일 금통위 기자간담회 jhlee2@yna.co.kr (끝)\\\\t\\\\t\\\\t\\\\t \\\\t\\\\t \\\\t\\\\t'"
            ]
          },
          "metadata": {
            "tags": []
          },
          "execution_count": 9
        }
      ]
    },
    {
      "cell_type": "code",
      "metadata": {
        "id": "ji4jwR_m83Pz",
        "colab_type": "code",
        "colab": {
          "base_uri": "https://localhost:8080/",
          "height": 34
        },
        "outputId": "23918a3a-a71f-4926-d4eb-d8466225f5ae"
      },
      "source": [
        "len(df_articles)"
      ],
      "execution_count": 10,
      "outputs": [
        {
          "output_type": "execute_result",
          "data": {
            "text/plain": [
              "193117"
            ]
          },
          "metadata": {
            "tags": []
          },
          "execution_count": 10
        }
      ]
    },
    {
      "cell_type": "code",
      "metadata": {
        "id": "dBP9RA911W0F",
        "colab_type": "code",
        "colab": {
          "base_uri": "https://localhost:8080/",
          "height": 246
        },
        "outputId": "6e128e0d-a221-42f6-97f7-24f22bf831e7"
      },
      "source": [
        "import re\n",
        "from tqdm import tqdm\n",
        "for i in tqdm(range(66894)):\n",
        "  df_articles['content'][i] = re.sub('(\\\\\\\\t)', '', df_articles['content'][i])\n",
        "df_articles['content']"
      ],
      "execution_count": 11,
      "outputs": [
        {
          "output_type": "stream",
          "text": [
            "100%|██████████| 66894/66894 [04:26<00:00, 251.26it/s]\n"
          ],
          "name": "stderr"
        },
        {
          "output_type": "execute_result",
          "data": {
            "text/plain": [
              "0         (서울=연합뉴스) 최윤정기자 = 채권금리가 소폭 상승했다.     9일 채권시장에서...\n",
              "1         (서울=연합뉴스) 김세진기자= 코스닥시장이 여러 대외 악재들에 대한  우려감이 다소...\n",
              "2         \"(뉴욕=연합뉴스) 이래운 특파원 = 한 억만장자가 위기에 몰린 제너럴모터스(GM)...\n",
              "3         edaily 이정훈기자 미국의 최근 성장률 둔화는 크게 우려할 사안이 아니며 이로 ...\n",
              "4         edaily 김현동기자 미국 머니매니저의 38%만이 올해 미국 주식시장에 대해 낙관...\n",
              "                                ...                        \n",
              "193112    이데일리 김인경 기자 태영건설(009410)이 이달 말 발행하는 회사채에 대한 수요...\n",
              "193113    이데일리 노희준 기자 앞으로 정책성 10%대 중금리 신용대출인 ‘사잇돌대출’을 은행...\n",
              "193114    - 피해상인에 7000만원 한도 긴급경영자금 지원설대목 앞두고 화마 덮친 여수 수산...\n",
              "193115    GS건설이 용인 수지구 동천동 일대에 분양 중인 ‘동천파크자이’는 판교 창조경제밸리...\n",
              "193116    이데일리 정다슬 기자 심광일(사진) 주택건설협회 회장이 식어가는 주택경기에 온기를 ...\n",
              "Name: content, Length: 193117, dtype: object"
            ]
          },
          "metadata": {
            "tags": []
          },
          "execution_count": 11
        }
      ]
    },
    {
      "cell_type": "code",
      "metadata": {
        "id": "VprXcw574hCA",
        "colab_type": "code",
        "colab": {
          "base_uri": "https://localhost:8080/",
          "height": 35
        },
        "outputId": "f4680590-80df-4a2b-8567-a7116cf2fd04"
      },
      "source": [
        "df_articles['content'][12345]"
      ],
      "execution_count": 14,
      "outputs": [
        {
          "output_type": "execute_result",
          "data": {
            "application/vnd.google.colaboratory.intrinsic+json": {
              "type": "string"
            },
            "text/plain": [
              "'-미 금리인상 속도 빠르지 않고 경제여건 상 다른 신흥국과 차별화 될 것. 다만 중국 경기불안으로 신흥시장국의 영향력 확산할 가능성.  -13일 금통위 기자간담회 jhlee2@yna.co.kr (끝)  '"
            ]
          },
          "metadata": {
            "tags": []
          },
          "execution_count": 14
        }
      ]
    },
    {
      "cell_type": "code",
      "metadata": {
        "id": "hwNiBnztAxfw",
        "colab_type": "code",
        "colab": {
          "base_uri": "https://localhost:8080/",
          "height": 402
        },
        "outputId": "e944aa62-4345-442e-856f-6660de0de214"
      },
      "source": [
        "df_articles.to_csv('preprocessed_articles_2.csv', index = False)\n",
        "df_articles"
      ],
      "execution_count": 15,
      "outputs": [
        {
          "output_type": "execute_result",
          "data": {
            "text/html": [
              "<div>\n",
              "<style scoped>\n",
              "    .dataframe tbody tr th:only-of-type {\n",
              "        vertical-align: middle;\n",
              "    }\n",
              "\n",
              "    .dataframe tbody tr th {\n",
              "        vertical-align: top;\n",
              "    }\n",
              "\n",
              "    .dataframe thead th {\n",
              "        text-align: right;\n",
              "    }\n",
              "</style>\n",
              "<table border=\"1\" class=\"dataframe\">\n",
              "  <thead>\n",
              "    <tr style=\"text-align: right;\">\n",
              "      <th></th>\n",
              "      <th>date</th>\n",
              "      <th>source</th>\n",
              "      <th>title</th>\n",
              "      <th>content</th>\n",
              "    </tr>\n",
              "  </thead>\n",
              "  <tbody>\n",
              "    <tr>\n",
              "      <th>0</th>\n",
              "      <td>2005.05.09. 오후 4:42</td>\n",
              "      <td>연합뉴스</td>\n",
              "      <td>&lt;채권&gt; 금리 소폭 상승</td>\n",
              "      <td>(서울=연합뉴스) 최윤정기자 = 채권금리가 소폭 상승했다.     9일 채권시장에서...</td>\n",
              "    </tr>\n",
              "    <tr>\n",
              "      <th>1</th>\n",
              "      <td>2005.05.06. 오전 10:24</td>\n",
              "      <td>연합뉴스</td>\n",
              "      <td>&lt;코스닥 시황&gt; 이틀째 상승(10:00)</td>\n",
              "      <td>(서울=연합뉴스) 김세진기자= 코스닥시장이 여러 대외 악재들에 대한  우려감이 다소...</td>\n",
              "    </tr>\n",
              "    <tr>\n",
              "      <th>2</th>\n",
              "      <td>2005.05.05. 오전 5:19</td>\n",
              "      <td>연합뉴스</td>\n",
              "      <td>&lt;뉴욕증시&gt; GM 호재에 동반 상승</td>\n",
              "      <td>\"(뉴욕=연합뉴스) 이래운 특파원 = 한 억만장자가 위기에 몰린 제너럴모터스(GM)...</td>\n",
              "    </tr>\n",
              "    <tr>\n",
              "      <th>3</th>\n",
              "      <td>2005.05.10. 오후 4:22</td>\n",
              "      <td>이데일리</td>\n",
              "      <td>\"美성장률 둔화, 큰 우려 아니다\"-KIEP</td>\n",
              "      <td>edaily 이정훈기자 미국의 최근 성장률 둔화는 크게 우려할 사안이 아니며 이로 ...</td>\n",
              "    </tr>\n",
              "    <tr>\n",
              "      <th>4</th>\n",
              "      <td>2005.05.02. 오전 10:44</td>\n",
              "      <td>이데일리</td>\n",
              "      <td>美 증시 낙관론 6년래 최저-배런스</td>\n",
              "      <td>edaily 김현동기자 미국 머니매니저의 38%만이 올해 미국 주식시장에 대해 낙관...</td>\n",
              "    </tr>\n",
              "    <tr>\n",
              "      <th>...</th>\n",
              "      <td>...</td>\n",
              "      <td>...</td>\n",
              "      <td>...</td>\n",
              "      <td>...</td>\n",
              "    </tr>\n",
              "    <tr>\n",
              "      <th>193112</th>\n",
              "      <td>2017.01.24. 오전 9:53</td>\n",
              "      <td>이데일리</td>\n",
              "      <td>태영건설, 회사채 2년물 500억원 수요예측 성공</td>\n",
              "      <td>이데일리 김인경 기자 태영건설(009410)이 이달 말 발행하는 회사채에 대한 수요...</td>\n",
              "    </tr>\n",
              "    <tr>\n",
              "      <th>193113</th>\n",
              "      <td>2017.01.17. 오전 6:01</td>\n",
              "      <td>이데일리</td>\n",
              "      <td>[서민금융] 사잇돌대출, 상호금융권으로 확대.. 소진시 1조원 추가</td>\n",
              "      <td>이데일리 노희준 기자 앞으로 정책성 10%대 중금리 신용대출인 ‘사잇돌대출’을 은행...</td>\n",
              "    </tr>\n",
              "    <tr>\n",
              "      <th>193114</th>\n",
              "      <td>2017.01.16. 오후 6:06</td>\n",
              "      <td>이데일리</td>\n",
              "      <td>정부, 화재피해 입은 여수 수산시장에 10억원 긴급 지원</td>\n",
              "      <td>- 피해상인에 7000만원 한도 긴급경영자금 지원설대목 앞두고 화마 덮친 여수 수산...</td>\n",
              "    </tr>\n",
              "    <tr>\n",
              "      <th>193115</th>\n",
              "      <td>2017.01.19. 오후 5:49</td>\n",
              "      <td>이데일리</td>\n",
              "      <td>동천파크자이, 판교 창조경제 밸리 수혜단지 주목</td>\n",
              "      <td>GS건설이 용인 수지구 동천동 일대에 분양 중인 ‘동천파크자이’는 판교 창조경제밸리...</td>\n",
              "    </tr>\n",
              "    <tr>\n",
              "      <th>193116</th>\n",
              "      <td>2017.01.17. 오후 3:29</td>\n",
              "      <td>이데일리</td>\n",
              "      <td>심광일 주택건설협회 회장 “집단대출 규제 완화하고 DSR 유보해야\"</td>\n",
              "      <td>이데일리 정다슬 기자 심광일(사진) 주택건설협회 회장이 식어가는 주택경기에 온기를 ...</td>\n",
              "    </tr>\n",
              "  </tbody>\n",
              "</table>\n",
              "<p>193117 rows × 4 columns</p>\n",
              "</div>"
            ],
            "text/plain": [
              "                        date  ...                                            content\n",
              "0        2005.05.09. 오후 4:42  ...  (서울=연합뉴스) 최윤정기자 = 채권금리가 소폭 상승했다.     9일 채권시장에서...\n",
              "1       2005.05.06. 오전 10:24  ...  (서울=연합뉴스) 김세진기자= 코스닥시장이 여러 대외 악재들에 대한  우려감이 다소...\n",
              "2        2005.05.05. 오전 5:19  ...  \"(뉴욕=연합뉴스) 이래운 특파원 = 한 억만장자가 위기에 몰린 제너럴모터스(GM)...\n",
              "3        2005.05.10. 오후 4:22  ...  edaily 이정훈기자 미국의 최근 성장률 둔화는 크게 우려할 사안이 아니며 이로 ...\n",
              "4       2005.05.02. 오전 10:44  ...  edaily 김현동기자 미국 머니매니저의 38%만이 올해 미국 주식시장에 대해 낙관...\n",
              "...                      ...  ...                                                ...\n",
              "193112   2017.01.24. 오전 9:53  ...  이데일리 김인경 기자 태영건설(009410)이 이달 말 발행하는 회사채에 대한 수요...\n",
              "193113   2017.01.17. 오전 6:01  ...  이데일리 노희준 기자 앞으로 정책성 10%대 중금리 신용대출인 ‘사잇돌대출’을 은행...\n",
              "193114   2017.01.16. 오후 6:06  ...  - 피해상인에 7000만원 한도 긴급경영자금 지원설대목 앞두고 화마 덮친 여수 수산...\n",
              "193115   2017.01.19. 오후 5:49  ...  GS건설이 용인 수지구 동천동 일대에 분양 중인 ‘동천파크자이’는 판교 창조경제밸리...\n",
              "193116   2017.01.17. 오후 3:29  ...  이데일리 정다슬 기자 심광일(사진) 주택건설협회 회장이 식어가는 주택경기에 온기를 ...\n",
              "\n",
              "[193117 rows x 4 columns]"
            ]
          },
          "metadata": {
            "tags": []
          },
          "execution_count": 15
        }
      ]
    },
    {
      "cell_type": "code",
      "metadata": {
        "id": "Y_t5V6rDA9m6",
        "colab_type": "code",
        "colab": {}
      },
      "source": [
        ""
      ],
      "execution_count": null,
      "outputs": []
    }
  ]
}